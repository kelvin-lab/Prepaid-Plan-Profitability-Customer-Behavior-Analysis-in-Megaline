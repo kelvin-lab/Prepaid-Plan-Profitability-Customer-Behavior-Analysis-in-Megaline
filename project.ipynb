{
 "cells": [
  {
   "cell_type": "markdown",
   "metadata": {
    "id": "3rYiDeEH0q0f"
   },
   "source": [
    "<h1 align='center'>Análisis del Comportamiento de Clientes en Megaline</h1>\n",
    "<h2>¿Cuál es la mejor tarifa?</h2>\n",
    "\n",
    "El operador de telecomunicaciones Megaline ofrece a sus clientes dos tarifas de prepago: Surf y Ultimate. El departamento comercial desea identificar cuál de estas tarifas genera más ingresos para ajustar el presupuesto de publicidad.\n",
    "\n",
    "Para ello, se realizará un análisis preliminar utilizando datos de una muestra de 500 clientes de Megaline. Los datos incluyen la identidad de los clientes, su ubicación, la tarifa que utilizan, así como la cantidad de llamadas y mensajes de texto enviados en 2018."
   ]
  },
  {
   "cell_type": "markdown",
   "metadata": {
    "id": "VNddPNRQ0q0w"
   },
   "source": [
    "## Plan de acción\n",
    "\n",
    "### Objetivo\n",
    "El objetivo principal es evaluar el comportamiento de los clientes y determinar cuál tarifa de prepago es más rentable, proporcionando información clave para ajustar el presupuesto publicitario de la empresa\n",
    " \n",
    "\n",
    "**Paso 1: Exploración de Datos**\n",
    "\n",
    "Se iniciará recolectando la información general de los archivos de datos disponibles para 500 clientes de Megaline. Estos datos incluyen información sobre llamadas, uso de internet, mensajes y detalles específicos de los planes y usuarios.\n",
    "\n",
    "El conjunto de datos se almacenan en los siguientes directorios: \n",
    "- Users: `/datasets/megaline_users.csv`\n",
    "- Calls: `/datasets/megaline_calls.csv`\n",
    "- Messages: `/datasets/megaline_messages.csv`\n",
    "- Internet: `/datasets/megaline_internet.csv`\n",
    "- Plans: `/datasets/megaline_plans.csv`\n",
    "\n",
    "\n",
    "**Paso 2: Preparación de Datos**\n",
    "\n",
    "El siguiente paso implica preparar los datos para su análisis. Esto incluye la conversión de los tipos de datos necesarios y la identificación y eliminación de posibles errores. \n",
    "\n",
    "**Paso 3: Análisis de Datos**\n",
    "\n",
    "En esta etapa, se describirá el comportamiento de la clientela mediante el análisis de minutos, SMS y volumen de datos requeridos por los usuarios de cada tarifa por mes. Se calcularán la media, la varianza y la desviación estándar, y se representarán mediante histogramas para entender las distribuciones.\n",
    "\n",
    "**Paso 4: Pruebas de Hipótesis**\n",
    "\n",
    "Se realizarán pruebas de hipótesis para dos afirmaciones clave: el ingreso promedio de los usuarios de las tarifas Ultimate y Surf difiere, y que el ingreso promedio de los usuarios en el área de estados Nueva York-Nueva Jersey es diferente al de los usuarios en otras regiones. Se explicará la formulación de las hipótesis nula y alternativa, así como los criterios utilizados para probarlas.\n",
    "\n",
    "**Paso 5: Conclusión General**\n",
    "\n",
    "Finalmente, se elaborará una conclusión general que resuma los hallazgos del análisis. Esta conclusión proporcionará información valiosa para que el departamento comercial de Megaline tome decisiones informadas sobre la asignación de presupuesto publicitario y la optimización de los planes de prepago. En este proyecto, se busca no solo analizar datos, sino también proporcionar una visión estratégica que impacte positivamente en el negocio de Megaline."
   ]
  },
  {
   "cell_type": "markdown",
   "metadata": {},
   "source": [
    "# Contenido <a id='back'></a>\n",
    "\n",
    "* [Exploración de Datos](#data_exploration)\n",
    "* [Preparación de Datos](#data_review)\n",
    "* [Análisis de Datos](#data_analysis)\n",
    "* [Pruebas de Hipótesis](#hypothesis)\n",
    "* [Conclusión](#end)"
   ]
  },
  {
   "cell_type": "markdown",
   "metadata": {
    "id": "MQi4IPy70q0y"
   },
   "source": [
    "## Exploración de Datos <a id='data_exploration'></a>"
   ]
  },
  {
   "cell_type": "code",
   "execution_count": 1,
   "metadata": {
    "id": "MtYIuBxu0q0z"
   },
   "outputs": [],
   "source": [
    "import pandas as pd\n",
    "import numpy as np\n",
    "from scipy import stats as st\n",
    "from matplotlib import pyplot as plt"
   ]
  },
  {
   "cell_type": "code",
   "execution_count": 2,
   "metadata": {
    "id": "CCqPW7rS0q01"
   },
   "outputs": [],
   "source": [
    "# Acceso a los registros de los recursos \"users\", \"calls\", \"messages\", \"internet\" y \"plans\"\n",
    "\n",
    "df_users = pd.read_csv('./datasets/megaline_users.csv')\n",
    "\n",
    "df_calls = pd.read_csv('./datasets/megaline_calls.csv')\n",
    "\n",
    "df_messages = pd.read_csv('./datasets/megaline_messages.csv')\n",
    "\n",
    "df_internet = pd.read_csv('./datasets/megaline_internet.csv')\n",
    "\n",
    "df_plans = pd.read_csv('./datasets/megaline_plans.csv')"
   ]
  },
  {
   "cell_type": "markdown",
   "metadata": {},
   "source": [
    "[Volver a Contenidos](#back)"
   ]
  },
  {
   "cell_type": "markdown",
   "metadata": {
    "id": "69qqoJ3r0q01"
   },
   "source": [
    "## Preparar los datos <a id='data_review'></a>"
   ]
  },
  {
   "cell_type": "markdown",
   "metadata": {},
   "source": [
    "### Información general sobre los registros del DataFrame 'plans'"
   ]
  },
  {
   "cell_type": "code",
   "execution_count": 3,
   "metadata": {
    "id": "GptqP3Q40q02"
   },
   "outputs": [
    {
     "name": "stdout",
     "output_type": "stream",
     "text": [
      "\u001b[1m Muestra aleatoria de filas del DataFrame 'plans':\n"
     ]
    },
    {
     "data": {
      "text/html": [
       "<div>\n",
       "<style scoped>\n",
       "    .dataframe tbody tr th:only-of-type {\n",
       "        vertical-align: middle;\n",
       "    }\n",
       "\n",
       "    .dataframe tbody tr th {\n",
       "        vertical-align: top;\n",
       "    }\n",
       "\n",
       "    .dataframe thead th {\n",
       "        text-align: right;\n",
       "    }\n",
       "</style>\n",
       "<table border=\"1\" class=\"dataframe\">\n",
       "  <thead>\n",
       "    <tr style=\"text-align: right;\">\n",
       "      <th></th>\n",
       "      <th>messages_included</th>\n",
       "      <th>mb_per_month_included</th>\n",
       "      <th>minutes_included</th>\n",
       "      <th>usd_monthly_pay</th>\n",
       "      <th>usd_per_gb</th>\n",
       "      <th>usd_per_message</th>\n",
       "      <th>usd_per_minute</th>\n",
       "      <th>plan_name</th>\n",
       "    </tr>\n",
       "  </thead>\n",
       "  <tbody>\n",
       "    <tr>\n",
       "      <th>0</th>\n",
       "      <td>50</td>\n",
       "      <td>15360</td>\n",
       "      <td>500</td>\n",
       "      <td>20</td>\n",
       "      <td>10</td>\n",
       "      <td>0.03</td>\n",
       "      <td>0.03</td>\n",
       "      <td>surf</td>\n",
       "    </tr>\n",
       "    <tr>\n",
       "      <th>1</th>\n",
       "      <td>1000</td>\n",
       "      <td>30720</td>\n",
       "      <td>3000</td>\n",
       "      <td>70</td>\n",
       "      <td>7</td>\n",
       "      <td>0.01</td>\n",
       "      <td>0.01</td>\n",
       "      <td>ultimate</td>\n",
       "    </tr>\n",
       "  </tbody>\n",
       "</table>\n",
       "</div>"
      ],
      "text/plain": [
       "   messages_included  mb_per_month_included  minutes_included  \\\n",
       "0                 50                  15360               500   \n",
       "1               1000                  30720              3000   \n",
       "\n",
       "   usd_monthly_pay  usd_per_gb  usd_per_message  usd_per_minute plan_name  \n",
       "0               20          10             0.03            0.03      surf  \n",
       "1               70           7             0.01            0.01  ultimate  "
      ]
     },
     "metadata": {},
     "output_type": "display_data"
    },
    {
     "name": "stdout",
     "output_type": "stream",
     "text": [
      "\u001b[1m Resumen del DataFrame 'plans':\u001b[0m \n",
      "\n",
      "<class 'pandas.core.frame.DataFrame'>\n",
      "RangeIndex: 2 entries, 0 to 1\n",
      "Data columns (total 8 columns):\n",
      " #   Column                 Non-Null Count  Dtype  \n",
      "---  ------                 --------------  -----  \n",
      " 0   messages_included      2 non-null      int64  \n",
      " 1   mb_per_month_included  2 non-null      int64  \n",
      " 2   minutes_included       2 non-null      int64  \n",
      " 3   usd_monthly_pay        2 non-null      int64  \n",
      " 4   usd_per_gb             2 non-null      int64  \n",
      " 5   usd_per_message        2 non-null      float64\n",
      " 6   usd_per_minute         2 non-null      float64\n",
      " 7   plan_name              2 non-null      object \n",
      "dtypes: float64(2), int64(5), object(1)\n",
      "memory usage: 260.0+ bytes\n"
     ]
    }
   ],
   "source": [
    "\n",
    "print(\"\\033[1m Muestra aleatoria de filas del DataFrame 'plans':\")\n",
    "\n",
    "display(df_plans.head())\n",
    "\n",
    "print(\"\\033[1m Resumen del DataFrame 'plans':\\033[0m \\n\")\n",
    "\n",
    "df_plans.info()"
   ]
  },
  {
   "cell_type": "markdown",
   "metadata": {
    "id": "mEc_3_hs0q02"
   },
   "source": [
    "El DataFrame `plans` no presenta inconvenientes relacionados con tipos de datos incorrectos en sus campos, ni se observan datos ausentes ni duplicados.\n",
    "\n",
    "*Notas extras:*\n",
    "En un enfoque objetivo, se consideraría una buena práctica crear una nueva columna denominada `id_plan` para establecer una base de datos escalable. Actualmente, no existen problemas, ya que la empresa solo cuenta con dos planes. Sin embargo, para garantizar una mayor eficiencia en el desarrollo y análisis en el futuro, sería recomendable incluir identificadores (`ids`)."
   ]
  },
  {
   "cell_type": "markdown",
   "metadata": {},
   "source": [
    "[Volver a Contenidos](#back)"
   ]
  },
  {
   "cell_type": "markdown",
   "metadata": {},
   "source": [
    "### Información general sobre los registros del DataFrame 'users'"
   ]
  },
  {
   "cell_type": "code",
   "execution_count": 4,
   "metadata": {
    "id": "2NgjWFqx0q05"
   },
   "outputs": [
    {
     "name": "stdout",
     "output_type": "stream",
     "text": [
      "\u001b[1m Muestra aleatoria de filas del DataFrame 'users':\n"
     ]
    },
    {
     "data": {
      "text/html": [
       "<div>\n",
       "<style scoped>\n",
       "    .dataframe tbody tr th:only-of-type {\n",
       "        vertical-align: middle;\n",
       "    }\n",
       "\n",
       "    .dataframe tbody tr th {\n",
       "        vertical-align: top;\n",
       "    }\n",
       "\n",
       "    .dataframe thead th {\n",
       "        text-align: right;\n",
       "    }\n",
       "</style>\n",
       "<table border=\"1\" class=\"dataframe\">\n",
       "  <thead>\n",
       "    <tr style=\"text-align: right;\">\n",
       "      <th></th>\n",
       "      <th>user_id</th>\n",
       "      <th>first_name</th>\n",
       "      <th>last_name</th>\n",
       "      <th>age</th>\n",
       "      <th>city</th>\n",
       "      <th>reg_date</th>\n",
       "      <th>plan</th>\n",
       "      <th>churn_date</th>\n",
       "    </tr>\n",
       "  </thead>\n",
       "  <tbody>\n",
       "    <tr>\n",
       "      <th>258</th>\n",
       "      <td>1258</td>\n",
       "      <td>Kai</td>\n",
       "      <td>Russell</td>\n",
       "      <td>39</td>\n",
       "      <td>Chicago-Naperville-Elgin, IL-IN-WI MSA</td>\n",
       "      <td>2018-07-12</td>\n",
       "      <td>surf</td>\n",
       "      <td>NaN</td>\n",
       "    </tr>\n",
       "    <tr>\n",
       "      <th>376</th>\n",
       "      <td>1376</td>\n",
       "      <td>Mika</td>\n",
       "      <td>Williams</td>\n",
       "      <td>58</td>\n",
       "      <td>Columbia, SC MSA</td>\n",
       "      <td>2018-04-16</td>\n",
       "      <td>ultimate</td>\n",
       "      <td>NaN</td>\n",
       "    </tr>\n",
       "    <tr>\n",
       "      <th>469</th>\n",
       "      <td>1469</td>\n",
       "      <td>Rory</td>\n",
       "      <td>Nixon</td>\n",
       "      <td>75</td>\n",
       "      <td>New York-Newark-Jersey City, NY-NJ-PA MSA</td>\n",
       "      <td>2018-06-04</td>\n",
       "      <td>surf</td>\n",
       "      <td>NaN</td>\n",
       "    </tr>\n",
       "    <tr>\n",
       "      <th>78</th>\n",
       "      <td>1078</td>\n",
       "      <td>Earnest</td>\n",
       "      <td>Gray</td>\n",
       "      <td>47</td>\n",
       "      <td>Seattle-Tacoma-Bellevue, WA MSA</td>\n",
       "      <td>2018-02-11</td>\n",
       "      <td>surf</td>\n",
       "      <td>NaN</td>\n",
       "    </tr>\n",
       "    <tr>\n",
       "      <th>60</th>\n",
       "      <td>1060</td>\n",
       "      <td>Denisse</td>\n",
       "      <td>Santos</td>\n",
       "      <td>53</td>\n",
       "      <td>Atlanta-Sandy Springs-Roswell, GA MSA</td>\n",
       "      <td>2018-04-07</td>\n",
       "      <td>surf</td>\n",
       "      <td>NaN</td>\n",
       "    </tr>\n",
       "    <tr>\n",
       "      <th>152</th>\n",
       "      <td>1152</td>\n",
       "      <td>Merrill</td>\n",
       "      <td>Hogan</td>\n",
       "      <td>35</td>\n",
       "      <td>Orlando-Kissimmee-Sanford, FL MSA</td>\n",
       "      <td>2018-11-01</td>\n",
       "      <td>surf</td>\n",
       "      <td>NaN</td>\n",
       "    </tr>\n",
       "    <tr>\n",
       "      <th>306</th>\n",
       "      <td>1306</td>\n",
       "      <td>Darron</td>\n",
       "      <td>Craig</td>\n",
       "      <td>19</td>\n",
       "      <td>Washington-Arlington-Alexandria, DC-VA-MD-WV MSA</td>\n",
       "      <td>2018-11-26</td>\n",
       "      <td>surf</td>\n",
       "      <td>NaN</td>\n",
       "    </tr>\n",
       "    <tr>\n",
       "      <th>16</th>\n",
       "      <td>1016</td>\n",
       "      <td>Jann</td>\n",
       "      <td>Salinas</td>\n",
       "      <td>30</td>\n",
       "      <td>Fresno, CA MSA</td>\n",
       "      <td>2018-10-25</td>\n",
       "      <td>surf</td>\n",
       "      <td>NaN</td>\n",
       "    </tr>\n",
       "    <tr>\n",
       "      <th>269</th>\n",
       "      <td>1269</td>\n",
       "      <td>Irving</td>\n",
       "      <td>Thompson</td>\n",
       "      <td>39</td>\n",
       "      <td>Dallas-Fort Worth-Arlington, TX MSA</td>\n",
       "      <td>2018-09-13</td>\n",
       "      <td>ultimate</td>\n",
       "      <td>2018-12-15</td>\n",
       "    </tr>\n",
       "    <tr>\n",
       "      <th>463</th>\n",
       "      <td>1463</td>\n",
       "      <td>Dinorah</td>\n",
       "      <td>Simmons</td>\n",
       "      <td>30</td>\n",
       "      <td>Atlanta-Sandy Springs-Roswell, GA MSA</td>\n",
       "      <td>2018-11-27</td>\n",
       "      <td>ultimate</td>\n",
       "      <td>NaN</td>\n",
       "    </tr>\n",
       "    <tr>\n",
       "      <th>89</th>\n",
       "      <td>1089</td>\n",
       "      <td>Malena</td>\n",
       "      <td>Kelley</td>\n",
       "      <td>70</td>\n",
       "      <td>Philadelphia-Camden-Wilmington, PA-NJ-DE-MD MSA</td>\n",
       "      <td>2018-09-03</td>\n",
       "      <td>surf</td>\n",
       "      <td>NaN</td>\n",
       "    </tr>\n",
       "    <tr>\n",
       "      <th>124</th>\n",
       "      <td>1124</td>\n",
       "      <td>Jenell</td>\n",
       "      <td>Navarro</td>\n",
       "      <td>48</td>\n",
       "      <td>New Haven-Milford, CT MSA</td>\n",
       "      <td>2018-02-19</td>\n",
       "      <td>ultimate</td>\n",
       "      <td>NaN</td>\n",
       "    </tr>\n",
       "    <tr>\n",
       "      <th>203</th>\n",
       "      <td>1203</td>\n",
       "      <td>Manie</td>\n",
       "      <td>Grimes</td>\n",
       "      <td>50</td>\n",
       "      <td>Boston-Cambridge-Newton, MA-NH MSA</td>\n",
       "      <td>2018-02-11</td>\n",
       "      <td>surf</td>\n",
       "      <td>NaN</td>\n",
       "    </tr>\n",
       "    <tr>\n",
       "      <th>427</th>\n",
       "      <td>1427</td>\n",
       "      <td>Zofia</td>\n",
       "      <td>Brock</td>\n",
       "      <td>64</td>\n",
       "      <td>Washington-Arlington-Alexandria, DC-VA-MD-WV MSA</td>\n",
       "      <td>2018-01-26</td>\n",
       "      <td>ultimate</td>\n",
       "      <td>NaN</td>\n",
       "    </tr>\n",
       "    <tr>\n",
       "      <th>301</th>\n",
       "      <td>1301</td>\n",
       "      <td>Tomas</td>\n",
       "      <td>Horton</td>\n",
       "      <td>64</td>\n",
       "      <td>Chicago-Naperville-Elgin, IL-IN-WI MSA</td>\n",
       "      <td>2018-01-04</td>\n",
       "      <td>ultimate</td>\n",
       "      <td>NaN</td>\n",
       "    </tr>\n",
       "  </tbody>\n",
       "</table>\n",
       "</div>"
      ],
      "text/plain": [
       "     user_id first_name last_name  age  \\\n",
       "258     1258        Kai   Russell   39   \n",
       "376     1376       Mika  Williams   58   \n",
       "469     1469       Rory     Nixon   75   \n",
       "78      1078    Earnest      Gray   47   \n",
       "60      1060    Denisse    Santos   53   \n",
       "152     1152    Merrill     Hogan   35   \n",
       "306     1306     Darron     Craig   19   \n",
       "16      1016       Jann   Salinas   30   \n",
       "269     1269     Irving  Thompson   39   \n",
       "463     1463    Dinorah   Simmons   30   \n",
       "89      1089     Malena    Kelley   70   \n",
       "124     1124     Jenell   Navarro   48   \n",
       "203     1203      Manie    Grimes   50   \n",
       "427     1427      Zofia     Brock   64   \n",
       "301     1301      Tomas    Horton   64   \n",
       "\n",
       "                                                 city    reg_date      plan  \\\n",
       "258            Chicago-Naperville-Elgin, IL-IN-WI MSA  2018-07-12      surf   \n",
       "376                                  Columbia, SC MSA  2018-04-16  ultimate   \n",
       "469         New York-Newark-Jersey City, NY-NJ-PA MSA  2018-06-04      surf   \n",
       "78                    Seattle-Tacoma-Bellevue, WA MSA  2018-02-11      surf   \n",
       "60              Atlanta-Sandy Springs-Roswell, GA MSA  2018-04-07      surf   \n",
       "152                 Orlando-Kissimmee-Sanford, FL MSA  2018-11-01      surf   \n",
       "306  Washington-Arlington-Alexandria, DC-VA-MD-WV MSA  2018-11-26      surf   \n",
       "16                                     Fresno, CA MSA  2018-10-25      surf   \n",
       "269               Dallas-Fort Worth-Arlington, TX MSA  2018-09-13  ultimate   \n",
       "463             Atlanta-Sandy Springs-Roswell, GA MSA  2018-11-27  ultimate   \n",
       "89    Philadelphia-Camden-Wilmington, PA-NJ-DE-MD MSA  2018-09-03      surf   \n",
       "124                         New Haven-Milford, CT MSA  2018-02-19  ultimate   \n",
       "203                Boston-Cambridge-Newton, MA-NH MSA  2018-02-11      surf   \n",
       "427  Washington-Arlington-Alexandria, DC-VA-MD-WV MSA  2018-01-26  ultimate   \n",
       "301            Chicago-Naperville-Elgin, IL-IN-WI MSA  2018-01-04  ultimate   \n",
       "\n",
       "     churn_date  \n",
       "258         NaN  \n",
       "376         NaN  \n",
       "469         NaN  \n",
       "78          NaN  \n",
       "60          NaN  \n",
       "152         NaN  \n",
       "306         NaN  \n",
       "16          NaN  \n",
       "269  2018-12-15  \n",
       "463         NaN  \n",
       "89          NaN  \n",
       "124         NaN  \n",
       "203         NaN  \n",
       "427         NaN  \n",
       "301         NaN  "
      ]
     },
     "metadata": {},
     "output_type": "display_data"
    },
    {
     "name": "stdout",
     "output_type": "stream",
     "text": [
      "\u001b[1m Resumen del DataFrame 'users':\u001b[0m \n",
      "\n",
      "<class 'pandas.core.frame.DataFrame'>\n",
      "RangeIndex: 500 entries, 0 to 499\n",
      "Data columns (total 8 columns):\n",
      " #   Column      Non-Null Count  Dtype \n",
      "---  ------      --------------  ----- \n",
      " 0   user_id     500 non-null    int64 \n",
      " 1   first_name  500 non-null    object\n",
      " 2   last_name   500 non-null    object\n",
      " 3   age         500 non-null    int64 \n",
      " 4   city        500 non-null    object\n",
      " 5   reg_date    500 non-null    object\n",
      " 6   plan        500 non-null    object\n",
      " 7   churn_date  34 non-null     object\n",
      "dtypes: int64(2), object(6)\n",
      "memory usage: 31.4+ KB\n"
     ]
    }
   ],
   "source": [
    "\n",
    "print(\"\\033[1m Muestra aleatoria de filas del DataFrame 'users':\")\n",
    "\n",
    "display(df_users.sample(15, random_state=1425))\n",
    "\n",
    "print(\"\\033[1m Resumen del DataFrame 'users':\\033[0m \\n\")\n",
    "\n",
    "df_users.info()"
   ]
  },
  {
   "cell_type": "code",
   "execution_count": 5,
   "metadata": {},
   "outputs": [
    {
     "name": "stdout",
     "output_type": "stream",
     "text": [
      "Número de filas duplicadas:  0\n"
     ]
    }
   ],
   "source": [
    "print('Número de filas duplicadas: ',df_users.duplicated().sum())"
   ]
  },
  {
   "cell_type": "markdown",
   "metadata": {
    "id": "dCZoUq4f0q06"
   },
   "source": [
    "Los datos en `df_users` no presentan muchos inconvenientes; únicamente la fila `churn_date` tiene valores ausentes, lo cual es comprensible ya que hay clientes que aún no se han dado de baja en el servicio. Además, no se han encontrado registros duplicados. Los únicos cambios que deben realizarse son la conversión de los tipos de dato de `string` a `date` en las columnas `reg_date` y `churn_date`. Para llevar a cabo esta modificación, se utilizará la función `pandas.to_datetime()`."
   ]
  },
  {
   "cell_type": "code",
   "execution_count": 6,
   "metadata": {
    "id": "yUqX-K0C0q07"
   },
   "outputs": [
    {
     "name": "stdout",
     "output_type": "stream",
     "text": [
      "<class 'pandas.core.frame.DataFrame'>\n",
      "RangeIndex: 500 entries, 0 to 499\n",
      "Data columns (total 8 columns):\n",
      " #   Column      Non-Null Count  Dtype         \n",
      "---  ------      --------------  -----         \n",
      " 0   user_id     500 non-null    int64         \n",
      " 1   first_name  500 non-null    object        \n",
      " 2   last_name   500 non-null    object        \n",
      " 3   age         500 non-null    int64         \n",
      " 4   city        500 non-null    object        \n",
      " 5   reg_date    500 non-null    datetime64[ns]\n",
      " 6   plan        500 non-null    object        \n",
      " 7   churn_date  34 non-null     datetime64[ns]\n",
      "dtypes: datetime64[ns](2), int64(2), object(4)\n",
      "memory usage: 31.4+ KB\n"
     ]
    }
   ],
   "source": [
    "#Trasnformación de datos de tipo `string` a tipo `datetime` en `reg_date` y `churn_date`\n",
    "\n",
    "df_users['reg_date'] = pd.to_datetime(df_users['reg_date'])\n",
    "\n",
    "df_users['churn_date'] = pd.to_datetime(df_users['churn_date'])\n",
    "\n",
    "df_users.info()"
   ]
  },
  {
   "cell_type": "markdown",
   "metadata": {},
   "source": [
    "[Volver a Contenidos](#back)"
   ]
  },
  {
   "cell_type": "markdown",
   "metadata": {},
   "source": [
    "### Información general sobre los registros del DataFrame 'calls'"
   ]
  },
  {
   "cell_type": "code",
   "execution_count": 7,
   "metadata": {
    "id": "6dDlnoDm0q08"
   },
   "outputs": [
    {
     "name": "stdout",
     "output_type": "stream",
     "text": [
      "\u001b[1m Muestra aleatoria de filas del DataFrame 'calls':\n"
     ]
    },
    {
     "data": {
      "text/html": [
       "<div>\n",
       "<style scoped>\n",
       "    .dataframe tbody tr th:only-of-type {\n",
       "        vertical-align: middle;\n",
       "    }\n",
       "\n",
       "    .dataframe tbody tr th {\n",
       "        vertical-align: top;\n",
       "    }\n",
       "\n",
       "    .dataframe thead th {\n",
       "        text-align: right;\n",
       "    }\n",
       "</style>\n",
       "<table border=\"1\" class=\"dataframe\">\n",
       "  <thead>\n",
       "    <tr style=\"text-align: right;\">\n",
       "      <th></th>\n",
       "      <th>id</th>\n",
       "      <th>user_id</th>\n",
       "      <th>call_date</th>\n",
       "      <th>duration</th>\n",
       "    </tr>\n",
       "  </thead>\n",
       "  <tbody>\n",
       "    <tr>\n",
       "      <th>134023</th>\n",
       "      <td>1488_108</td>\n",
       "      <td>1488</td>\n",
       "      <td>2018-07-18</td>\n",
       "      <td>11.42</td>\n",
       "    </tr>\n",
       "    <tr>\n",
       "      <th>30064</th>\n",
       "      <td>1113_327</td>\n",
       "      <td>1113</td>\n",
       "      <td>2018-11-24</td>\n",
       "      <td>4.72</td>\n",
       "    </tr>\n",
       "    <tr>\n",
       "      <th>32823</th>\n",
       "      <td>1123_181</td>\n",
       "      <td>1123</td>\n",
       "      <td>2018-11-04</td>\n",
       "      <td>3.37</td>\n",
       "    </tr>\n",
       "    <tr>\n",
       "      <th>80108</th>\n",
       "      <td>1288_43</td>\n",
       "      <td>1288</td>\n",
       "      <td>2018-10-28</td>\n",
       "      <td>0.00</td>\n",
       "    </tr>\n",
       "    <tr>\n",
       "      <th>4896</th>\n",
       "      <td>1022_162</td>\n",
       "      <td>1022</td>\n",
       "      <td>2018-12-15</td>\n",
       "      <td>8.71</td>\n",
       "    </tr>\n",
       "    <tr>\n",
       "      <th>26056</th>\n",
       "      <td>1099_380</td>\n",
       "      <td>1099</td>\n",
       "      <td>2018-03-04</td>\n",
       "      <td>7.55</td>\n",
       "    </tr>\n",
       "    <tr>\n",
       "      <th>83796</th>\n",
       "      <td>1305_247</td>\n",
       "      <td>1305</td>\n",
       "      <td>2018-12-20</td>\n",
       "      <td>21.04</td>\n",
       "    </tr>\n",
       "    <tr>\n",
       "      <th>105301</th>\n",
       "      <td>1370_627</td>\n",
       "      <td>1370</td>\n",
       "      <td>2018-11-15</td>\n",
       "      <td>9.16</td>\n",
       "    </tr>\n",
       "    <tr>\n",
       "      <th>134978</th>\n",
       "      <td>1490_78</td>\n",
       "      <td>1490</td>\n",
       "      <td>2018-11-05</td>\n",
       "      <td>3.70</td>\n",
       "    </tr>\n",
       "    <tr>\n",
       "      <th>5017</th>\n",
       "      <td>1022_283</td>\n",
       "      <td>1022</td>\n",
       "      <td>2018-09-29</td>\n",
       "      <td>13.13</td>\n",
       "    </tr>\n",
       "    <tr>\n",
       "      <th>47489</th>\n",
       "      <td>1172_80</td>\n",
       "      <td>1172</td>\n",
       "      <td>2018-09-06</td>\n",
       "      <td>12.85</td>\n",
       "    </tr>\n",
       "    <tr>\n",
       "      <th>121122</th>\n",
       "      <td>1425_52</td>\n",
       "      <td>1425</td>\n",
       "      <td>2018-12-20</td>\n",
       "      <td>0.00</td>\n",
       "    </tr>\n",
       "    <tr>\n",
       "      <th>57501</th>\n",
       "      <td>1206_284</td>\n",
       "      <td>1206</td>\n",
       "      <td>2018-11-20</td>\n",
       "      <td>0.00</td>\n",
       "    </tr>\n",
       "    <tr>\n",
       "      <th>75671</th>\n",
       "      <td>1268_175</td>\n",
       "      <td>1268</td>\n",
       "      <td>2018-05-03</td>\n",
       "      <td>4.46</td>\n",
       "    </tr>\n",
       "    <tr>\n",
       "      <th>112136</th>\n",
       "      <td>1394_61</td>\n",
       "      <td>1394</td>\n",
       "      <td>2018-10-24</td>\n",
       "      <td>4.20</td>\n",
       "    </tr>\n",
       "  </tbody>\n",
       "</table>\n",
       "</div>"
      ],
      "text/plain": [
       "              id  user_id   call_date  duration\n",
       "134023  1488_108     1488  2018-07-18     11.42\n",
       "30064   1113_327     1113  2018-11-24      4.72\n",
       "32823   1123_181     1123  2018-11-04      3.37\n",
       "80108    1288_43     1288  2018-10-28      0.00\n",
       "4896    1022_162     1022  2018-12-15      8.71\n",
       "26056   1099_380     1099  2018-03-04      7.55\n",
       "83796   1305_247     1305  2018-12-20     21.04\n",
       "105301  1370_627     1370  2018-11-15      9.16\n",
       "134978   1490_78     1490  2018-11-05      3.70\n",
       "5017    1022_283     1022  2018-09-29     13.13\n",
       "47489    1172_80     1172  2018-09-06     12.85\n",
       "121122   1425_52     1425  2018-12-20      0.00\n",
       "57501   1206_284     1206  2018-11-20      0.00\n",
       "75671   1268_175     1268  2018-05-03      4.46\n",
       "112136   1394_61     1394  2018-10-24      4.20"
      ]
     },
     "metadata": {},
     "output_type": "display_data"
    },
    {
     "name": "stdout",
     "output_type": "stream",
     "text": [
      "\u001b[1m Resumen del DataFrame 'calls':\u001b[0m \n",
      "\n",
      "<class 'pandas.core.frame.DataFrame'>\n",
      "RangeIndex: 137735 entries, 0 to 137734\n",
      "Data columns (total 4 columns):\n",
      " #   Column     Non-Null Count   Dtype  \n",
      "---  ------     --------------   -----  \n",
      " 0   id         137735 non-null  object \n",
      " 1   user_id    137735 non-null  int64  \n",
      " 2   call_date  137735 non-null  object \n",
      " 3   duration   137735 non-null  float64\n",
      "dtypes: float64(1), int64(1), object(2)\n",
      "memory usage: 4.2+ MB\n"
     ]
    }
   ],
   "source": [
    "print(\"\\033[1m Muestra aleatoria de filas del DataFrame 'calls':\")\n",
    "\n",
    "display(df_calls.sample(15, random_state=1425))\n",
    "\n",
    "print(\"\\033[1m Resumen del DataFrame 'calls':\\033[0m \\n\")\n",
    "\n",
    "df_calls.info()"
   ]
  },
  {
   "cell_type": "code",
   "execution_count": 8,
   "metadata": {},
   "outputs": [
    {
     "name": "stdout",
     "output_type": "stream",
     "text": [
      "Número de filas duplicadas:  0\n"
     ]
    }
   ],
   "source": [
    "print('Número de filas duplicadas: ',df_calls.duplicated().sum())"
   ]
  },
  {
   "cell_type": "markdown",
   "metadata": {
    "id": "DOAxYJSx0q09"
   },
   "source": [
    "Los datos en `df_calls` no presentan inconvenientes con valores ausentes ni duplicados. Únicamente se requiere realizar la conversión del tipo de dato de string a date en la columna `call_date` mediante la función `pandas.to_datetime()`."
   ]
  },
  {
   "cell_type": "code",
   "execution_count": 9,
   "metadata": {
    "id": "S2r8xA4f0q0-"
   },
   "outputs": [
    {
     "name": "stdout",
     "output_type": "stream",
     "text": [
      "<class 'pandas.core.frame.DataFrame'>\n",
      "RangeIndex: 137735 entries, 0 to 137734\n",
      "Data columns (total 4 columns):\n",
      " #   Column     Non-Null Count   Dtype         \n",
      "---  ------     --------------   -----         \n",
      " 0   id         137735 non-null  object        \n",
      " 1   user_id    137735 non-null  int64         \n",
      " 2   call_date  137735 non-null  datetime64[ns]\n",
      " 3   duration   137735 non-null  float64       \n",
      "dtypes: datetime64[ns](1), float64(1), int64(1), object(1)\n",
      "memory usage: 4.2+ MB\n"
     ]
    }
   ],
   "source": [
    "#Trasnformación de datos de tipo `string` a tipo `datetime` en `call_date`\n",
    "\n",
    "df_calls['call_date'] = pd.to_datetime(df_calls['call_date'])\n",
    "\n",
    "df_calls.info()"
   ]
  },
  {
   "cell_type": "markdown",
   "metadata": {},
   "source": [
    "[Volver a Contenidos](#back)"
   ]
  },
  {
   "cell_type": "code",
   "execution_count": 10,
   "metadata": {},
   "outputs": [
    {
     "data": {
      "text/html": [
       "<div>\n",
       "<style scoped>\n",
       "    .dataframe tbody tr th:only-of-type {\n",
       "        vertical-align: middle;\n",
       "    }\n",
       "\n",
       "    .dataframe tbody tr th {\n",
       "        vertical-align: top;\n",
       "    }\n",
       "\n",
       "    .dataframe thead th {\n",
       "        text-align: right;\n",
       "    }\n",
       "</style>\n",
       "<table border=\"1\" class=\"dataframe\">\n",
       "  <thead>\n",
       "    <tr style=\"text-align: right;\">\n",
       "      <th></th>\n",
       "      <th>id</th>\n",
       "      <th>user_id</th>\n",
       "      <th>call_date</th>\n",
       "      <th>duration</th>\n",
       "    </tr>\n",
       "  </thead>\n",
       "  <tbody>\n",
       "    <tr>\n",
       "      <th>45936</th>\n",
       "      <td>1167_19</td>\n",
       "      <td>1167</td>\n",
       "      <td>2018-11-20</td>\n",
       "      <td>12</td>\n",
       "    </tr>\n",
       "    <tr>\n",
       "      <th>31751</th>\n",
       "      <td>1120_91</td>\n",
       "      <td>1120</td>\n",
       "      <td>2018-05-04</td>\n",
       "      <td>0</td>\n",
       "    </tr>\n",
       "    <tr>\n",
       "      <th>106830</th>\n",
       "      <td>1379_28</td>\n",
       "      <td>1379</td>\n",
       "      <td>2018-12-11</td>\n",
       "      <td>14</td>\n",
       "    </tr>\n",
       "    <tr>\n",
       "      <th>112009</th>\n",
       "      <td>1393_208</td>\n",
       "      <td>1393</td>\n",
       "      <td>2018-10-31</td>\n",
       "      <td>15</td>\n",
       "    </tr>\n",
       "    <tr>\n",
       "      <th>95513</th>\n",
       "      <td>1338_334</td>\n",
       "      <td>1338</td>\n",
       "      <td>2018-12-08</td>\n",
       "      <td>13</td>\n",
       "    </tr>\n",
       "    <tr>\n",
       "      <th>37180</th>\n",
       "      <td>1141_11</td>\n",
       "      <td>1141</td>\n",
       "      <td>2018-09-28</td>\n",
       "      <td>8</td>\n",
       "    </tr>\n",
       "    <tr>\n",
       "      <th>63393</th>\n",
       "      <td>1231_107</td>\n",
       "      <td>1231</td>\n",
       "      <td>2018-10-11</td>\n",
       "      <td>5</td>\n",
       "    </tr>\n",
       "    <tr>\n",
       "      <th>68480</th>\n",
       "      <td>1246_499</td>\n",
       "      <td>1246</td>\n",
       "      <td>2018-04-20</td>\n",
       "      <td>14</td>\n",
       "    </tr>\n",
       "    <tr>\n",
       "      <th>47181</th>\n",
       "      <td>1171_212</td>\n",
       "      <td>1171</td>\n",
       "      <td>2018-02-18</td>\n",
       "      <td>12</td>\n",
       "    </tr>\n",
       "    <tr>\n",
       "      <th>119641</th>\n",
       "      <td>1417_189</td>\n",
       "      <td>1417</td>\n",
       "      <td>2018-07-13</td>\n",
       "      <td>15</td>\n",
       "    </tr>\n",
       "  </tbody>\n",
       "</table>\n",
       "</div>"
      ],
      "text/plain": [
       "              id  user_id  call_date  duration\n",
       "45936    1167_19     1167 2018-11-20        12\n",
       "31751    1120_91     1120 2018-05-04         0\n",
       "106830   1379_28     1379 2018-12-11        14\n",
       "112009  1393_208     1393 2018-10-31        15\n",
       "95513   1338_334     1338 2018-12-08        13\n",
       "37180    1141_11     1141 2018-09-28         8\n",
       "63393   1231_107     1231 2018-10-11         5\n",
       "68480   1246_499     1246 2018-04-20        14\n",
       "47181   1171_212     1171 2018-02-18        12\n",
       "119641  1417_189     1417 2018-07-13        15"
      ]
     },
     "execution_count": 10,
     "metadata": {},
     "output_type": "execute_result"
    }
   ],
   "source": [
    "# Nota: Megaline redondea los segundos a minutos y los megabytes a gigabytes. \n",
    "\n",
    "# Entonces se redondea la duración de las llamadas y se convierte la columna al tipo de dato entero\n",
    "df_calls['duration'] = np.ceil(df_calls['duration'])\n",
    "\n",
    "df_calls['duration'] = df_calls['duration'].astype('int')\n",
    "\n",
    "df_calls.sample(10, random_state=258)"
   ]
  },
  {
   "cell_type": "markdown",
   "metadata": {},
   "source": [
    "### Información general sobre los registros del DataFrame 'messages'"
   ]
  },
  {
   "cell_type": "code",
   "execution_count": 11,
   "metadata": {
    "id": "R-bYJpdV0q1A"
   },
   "outputs": [
    {
     "name": "stdout",
     "output_type": "stream",
     "text": [
      "\u001b[1m Muestra aleatoria de filas del DataFrame 'messages':\n"
     ]
    },
    {
     "data": {
      "text/html": [
       "<div>\n",
       "<style scoped>\n",
       "    .dataframe tbody tr th:only-of-type {\n",
       "        vertical-align: middle;\n",
       "    }\n",
       "\n",
       "    .dataframe tbody tr th {\n",
       "        vertical-align: top;\n",
       "    }\n",
       "\n",
       "    .dataframe thead th {\n",
       "        text-align: right;\n",
       "    }\n",
       "</style>\n",
       "<table border=\"1\" class=\"dataframe\">\n",
       "  <thead>\n",
       "    <tr style=\"text-align: right;\">\n",
       "      <th></th>\n",
       "      <th>id</th>\n",
       "      <th>user_id</th>\n",
       "      <th>message_date</th>\n",
       "    </tr>\n",
       "  </thead>\n",
       "  <tbody>\n",
       "    <tr>\n",
       "      <th>29874</th>\n",
       "      <td>1184_32</td>\n",
       "      <td>1184</td>\n",
       "      <td>2018-12-21</td>\n",
       "    </tr>\n",
       "    <tr>\n",
       "      <th>53628</th>\n",
       "      <td>1340_154</td>\n",
       "      <td>1340</td>\n",
       "      <td>2018-09-14</td>\n",
       "    </tr>\n",
       "    <tr>\n",
       "      <th>70808</th>\n",
       "      <td>1460_341</td>\n",
       "      <td>1460</td>\n",
       "      <td>2018-07-17</td>\n",
       "    </tr>\n",
       "    <tr>\n",
       "      <th>72894</th>\n",
       "      <td>1470_522</td>\n",
       "      <td>1470</td>\n",
       "      <td>2018-10-15</td>\n",
       "    </tr>\n",
       "    <tr>\n",
       "      <th>27270</th>\n",
       "      <td>1167_227</td>\n",
       "      <td>1167</td>\n",
       "      <td>2018-10-10</td>\n",
       "    </tr>\n",
       "    <tr>\n",
       "      <th>32764</th>\n",
       "      <td>1203_409</td>\n",
       "      <td>1203</td>\n",
       "      <td>2018-09-27</td>\n",
       "    </tr>\n",
       "    <tr>\n",
       "      <th>54259</th>\n",
       "      <td>1343_350</td>\n",
       "      <td>1343</td>\n",
       "      <td>2018-09-13</td>\n",
       "    </tr>\n",
       "    <tr>\n",
       "      <th>58958</th>\n",
       "      <td>1374_132</td>\n",
       "      <td>1374</td>\n",
       "      <td>2018-12-22</td>\n",
       "    </tr>\n",
       "    <tr>\n",
       "      <th>67710</th>\n",
       "      <td>1439_104</td>\n",
       "      <td>1439</td>\n",
       "      <td>2018-05-14</td>\n",
       "    </tr>\n",
       "    <tr>\n",
       "      <th>2140</th>\n",
       "      <td>1028_45</td>\n",
       "      <td>1028</td>\n",
       "      <td>2018-03-15</td>\n",
       "    </tr>\n",
       "    <tr>\n",
       "      <th>54070</th>\n",
       "      <td>1343_154</td>\n",
       "      <td>1343</td>\n",
       "      <td>2018-11-04</td>\n",
       "    </tr>\n",
       "    <tr>\n",
       "      <th>43046</th>\n",
       "      <td>1281_402</td>\n",
       "      <td>1281</td>\n",
       "      <td>2018-11-21</td>\n",
       "    </tr>\n",
       "    <tr>\n",
       "      <th>69338</th>\n",
       "      <td>1451_35</td>\n",
       "      <td>1451</td>\n",
       "      <td>2018-09-13</td>\n",
       "    </tr>\n",
       "    <tr>\n",
       "      <th>41904</th>\n",
       "      <td>1268_277</td>\n",
       "      <td>1268</td>\n",
       "      <td>2018-10-25</td>\n",
       "    </tr>\n",
       "    <tr>\n",
       "      <th>43865</th>\n",
       "      <td>1293_210</td>\n",
       "      <td>1293</td>\n",
       "      <td>2018-09-17</td>\n",
       "    </tr>\n",
       "  </tbody>\n",
       "</table>\n",
       "</div>"
      ],
      "text/plain": [
       "             id  user_id message_date\n",
       "29874   1184_32     1184   2018-12-21\n",
       "53628  1340_154     1340   2018-09-14\n",
       "70808  1460_341     1460   2018-07-17\n",
       "72894  1470_522     1470   2018-10-15\n",
       "27270  1167_227     1167   2018-10-10\n",
       "32764  1203_409     1203   2018-09-27\n",
       "54259  1343_350     1343   2018-09-13\n",
       "58958  1374_132     1374   2018-12-22\n",
       "67710  1439_104     1439   2018-05-14\n",
       "2140    1028_45     1028   2018-03-15\n",
       "54070  1343_154     1343   2018-11-04\n",
       "43046  1281_402     1281   2018-11-21\n",
       "69338   1451_35     1451   2018-09-13\n",
       "41904  1268_277     1268   2018-10-25\n",
       "43865  1293_210     1293   2018-09-17"
      ]
     },
     "metadata": {},
     "output_type": "display_data"
    },
    {
     "name": "stdout",
     "output_type": "stream",
     "text": [
      "\u001b[1m Resumen del DataFrame 'messages':\u001b[0m \n",
      "\n",
      "<class 'pandas.core.frame.DataFrame'>\n",
      "RangeIndex: 76051 entries, 0 to 76050\n",
      "Data columns (total 3 columns):\n",
      " #   Column        Non-Null Count  Dtype \n",
      "---  ------        --------------  ----- \n",
      " 0   id            76051 non-null  object\n",
      " 1   user_id       76051 non-null  int64 \n",
      " 2   message_date  76051 non-null  object\n",
      "dtypes: int64(1), object(2)\n",
      "memory usage: 1.7+ MB\n"
     ]
    }
   ],
   "source": [
    "\n",
    "print(\"\\033[1m Muestra aleatoria de filas del DataFrame 'messages':\")\n",
    "\n",
    "display(df_messages.sample(15, random_state=1425))\n",
    "\n",
    "print(\"\\033[1m Resumen del DataFrame 'messages':\\033[0m \\n\")\n",
    "\n",
    "df_messages.info()"
   ]
  },
  {
   "cell_type": "code",
   "execution_count": 12,
   "metadata": {},
   "outputs": [
    {
     "name": "stdout",
     "output_type": "stream",
     "text": [
      "Número de filas duplicadas:  0\n"
     ]
    }
   ],
   "source": [
    "print('Número de filas duplicadas: ',df_messages.duplicated().sum())"
   ]
  },
  {
   "cell_type": "markdown",
   "metadata": {
    "id": "04xDj7KH0q1A"
   },
   "source": [
    "Los datos en `df_messages` no presentan inconvenientes con valores ausentes ni duplicados. Únicamente se requiere realizar la conversión del tipo de dato de string a date en la columna `message_date` mediante la función `pandas.to_datetime()`."
   ]
  },
  {
   "cell_type": "code",
   "execution_count": 13,
   "metadata": {
    "id": "vsllvkoa0q1B"
   },
   "outputs": [
    {
     "name": "stdout",
     "output_type": "stream",
     "text": [
      "<class 'pandas.core.frame.DataFrame'>\n",
      "RangeIndex: 76051 entries, 0 to 76050\n",
      "Data columns (total 3 columns):\n",
      " #   Column        Non-Null Count  Dtype         \n",
      "---  ------        --------------  -----         \n",
      " 0   id            76051 non-null  object        \n",
      " 1   user_id       76051 non-null  int64         \n",
      " 2   message_date  76051 non-null  datetime64[ns]\n",
      "dtypes: datetime64[ns](1), int64(1), object(1)\n",
      "memory usage: 1.7+ MB\n"
     ]
    }
   ],
   "source": [
    "#Trasnformación de datos de tipo `string` a tipo `datetime` en `message_date`\n",
    "\n",
    "df_messages['message_date'] = pd.to_datetime(df_messages['message_date'])\n",
    "\n",
    "df_messages.info()"
   ]
  },
  {
   "cell_type": "markdown",
   "metadata": {},
   "source": [
    "[Volver a Contenidos](#back)"
   ]
  },
  {
   "cell_type": "markdown",
   "metadata": {},
   "source": [
    "### Información general sobre los registros del DataFrame 'internet'"
   ]
  },
  {
   "cell_type": "code",
   "execution_count": 14,
   "metadata": {
    "id": "e-Uz5qyn0q1C"
   },
   "outputs": [
    {
     "name": "stdout",
     "output_type": "stream",
     "text": [
      "\u001b[1m Muestra aleatoria de filas del DataFrame 'internet':\n"
     ]
    },
    {
     "data": {
      "text/html": [
       "<div>\n",
       "<style scoped>\n",
       "    .dataframe tbody tr th:only-of-type {\n",
       "        vertical-align: middle;\n",
       "    }\n",
       "\n",
       "    .dataframe tbody tr th {\n",
       "        vertical-align: top;\n",
       "    }\n",
       "\n",
       "    .dataframe thead th {\n",
       "        text-align: right;\n",
       "    }\n",
       "</style>\n",
       "<table border=\"1\" class=\"dataframe\">\n",
       "  <thead>\n",
       "    <tr style=\"text-align: right;\">\n",
       "      <th></th>\n",
       "      <th>id</th>\n",
       "      <th>user_id</th>\n",
       "      <th>session_date</th>\n",
       "      <th>mb_used</th>\n",
       "    </tr>\n",
       "  </thead>\n",
       "  <tbody>\n",
       "    <tr>\n",
       "      <th>2786</th>\n",
       "      <td>1013_323</td>\n",
       "      <td>1013</td>\n",
       "      <td>2018-12-09</td>\n",
       "      <td>273.43</td>\n",
       "    </tr>\n",
       "    <tr>\n",
       "      <th>15266</th>\n",
       "      <td>1069_36</td>\n",
       "      <td>1069</td>\n",
       "      <td>2018-10-17</td>\n",
       "      <td>884.06</td>\n",
       "    </tr>\n",
       "    <tr>\n",
       "      <th>90654</th>\n",
       "      <td>1417_299</td>\n",
       "      <td>1417</td>\n",
       "      <td>2018-09-04</td>\n",
       "      <td>316.38</td>\n",
       "    </tr>\n",
       "    <tr>\n",
       "      <th>38727</th>\n",
       "      <td>1173_302</td>\n",
       "      <td>1173</td>\n",
       "      <td>2018-10-21</td>\n",
       "      <td>455.85</td>\n",
       "    </tr>\n",
       "    <tr>\n",
       "      <th>58228</th>\n",
       "      <td>1263_32</td>\n",
       "      <td>1263</td>\n",
       "      <td>2018-11-15</td>\n",
       "      <td>886.27</td>\n",
       "    </tr>\n",
       "    <tr>\n",
       "      <th>57441</th>\n",
       "      <td>1258_604</td>\n",
       "      <td>1258</td>\n",
       "      <td>2018-08-01</td>\n",
       "      <td>364.68</td>\n",
       "    </tr>\n",
       "    <tr>\n",
       "      <th>46410</th>\n",
       "      <td>1206_227</td>\n",
       "      <td>1206</td>\n",
       "      <td>2018-11-01</td>\n",
       "      <td>363.84</td>\n",
       "    </tr>\n",
       "    <tr>\n",
       "      <th>77577</th>\n",
       "      <td>1362_253</td>\n",
       "      <td>1362</td>\n",
       "      <td>2018-08-24</td>\n",
       "      <td>419.62</td>\n",
       "    </tr>\n",
       "    <tr>\n",
       "      <th>42172</th>\n",
       "      <td>1187_349</td>\n",
       "      <td>1187</td>\n",
       "      <td>2018-04-28</td>\n",
       "      <td>0.00</td>\n",
       "    </tr>\n",
       "    <tr>\n",
       "      <th>13386</th>\n",
       "      <td>1062_356</td>\n",
       "      <td>1062</td>\n",
       "      <td>2018-06-07</td>\n",
       "      <td>328.66</td>\n",
       "    </tr>\n",
       "    <tr>\n",
       "      <th>34528</th>\n",
       "      <td>1156_125</td>\n",
       "      <td>1156</td>\n",
       "      <td>2018-09-04</td>\n",
       "      <td>385.43</td>\n",
       "    </tr>\n",
       "    <tr>\n",
       "      <th>85077</th>\n",
       "      <td>1397_385</td>\n",
       "      <td>1397</td>\n",
       "      <td>2018-07-10</td>\n",
       "      <td>154.93</td>\n",
       "    </tr>\n",
       "    <tr>\n",
       "      <th>94490</th>\n",
       "      <td>1440_128</td>\n",
       "      <td>1440</td>\n",
       "      <td>2018-09-22</td>\n",
       "      <td>386.85</td>\n",
       "    </tr>\n",
       "    <tr>\n",
       "      <th>333</th>\n",
       "      <td>1002_362</td>\n",
       "      <td>1002</td>\n",
       "      <td>2018-11-23</td>\n",
       "      <td>336.55</td>\n",
       "    </tr>\n",
       "    <tr>\n",
       "      <th>37673</th>\n",
       "      <td>1171_44</td>\n",
       "      <td>1171</td>\n",
       "      <td>2018-12-07</td>\n",
       "      <td>425.00</td>\n",
       "    </tr>\n",
       "  </tbody>\n",
       "</table>\n",
       "</div>"
      ],
      "text/plain": [
       "             id  user_id session_date  mb_used\n",
       "2786   1013_323     1013   2018-12-09   273.43\n",
       "15266   1069_36     1069   2018-10-17   884.06\n",
       "90654  1417_299     1417   2018-09-04   316.38\n",
       "38727  1173_302     1173   2018-10-21   455.85\n",
       "58228   1263_32     1263   2018-11-15   886.27\n",
       "57441  1258_604     1258   2018-08-01   364.68\n",
       "46410  1206_227     1206   2018-11-01   363.84\n",
       "77577  1362_253     1362   2018-08-24   419.62\n",
       "42172  1187_349     1187   2018-04-28     0.00\n",
       "13386  1062_356     1062   2018-06-07   328.66\n",
       "34528  1156_125     1156   2018-09-04   385.43\n",
       "85077  1397_385     1397   2018-07-10   154.93\n",
       "94490  1440_128     1440   2018-09-22   386.85\n",
       "333    1002_362     1002   2018-11-23   336.55\n",
       "37673   1171_44     1171   2018-12-07   425.00"
      ]
     },
     "metadata": {},
     "output_type": "display_data"
    },
    {
     "name": "stdout",
     "output_type": "stream",
     "text": [
      "\u001b[1m Resumen del DataFrame 'internet':\u001b[0m \n",
      "\n",
      "<class 'pandas.core.frame.DataFrame'>\n",
      "RangeIndex: 104825 entries, 0 to 104824\n",
      "Data columns (total 4 columns):\n",
      " #   Column        Non-Null Count   Dtype  \n",
      "---  ------        --------------   -----  \n",
      " 0   id            104825 non-null  object \n",
      " 1   user_id       104825 non-null  int64  \n",
      " 2   session_date  104825 non-null  object \n",
      " 3   mb_used       104825 non-null  float64\n",
      "dtypes: float64(1), int64(1), object(2)\n",
      "memory usage: 3.2+ MB\n"
     ]
    }
   ],
   "source": [
    "print(\"\\033[1m Muestra aleatoria de filas del DataFrame 'internet':\")\n",
    "\n",
    "display(df_internet.sample(15, random_state=1425))\n",
    "\n",
    "print(\"\\033[1m Resumen del DataFrame 'internet':\\033[0m \\n\")\n",
    "\n",
    "df_internet.info()"
   ]
  },
  {
   "cell_type": "code",
   "execution_count": 15,
   "metadata": {},
   "outputs": [
    {
     "name": "stdout",
     "output_type": "stream",
     "text": [
      "Número de filas duplicadas:  0\n"
     ]
    }
   ],
   "source": [
    "print('Número de filas duplicadas: ',df_internet.duplicated().sum())"
   ]
  },
  {
   "cell_type": "markdown",
   "metadata": {
    "id": "EzOG5ik30q1D"
   },
   "source": [
    "Los datos en `df_internet` no presentan inconvenientes con valores ausentes ni duplicados. Únicamente se requiere realizar la conversión del tipo de dato de string a date en la columna `session_date` mediante la función `pandas.to_datetime()`."
   ]
  },
  {
   "cell_type": "code",
   "execution_count": 16,
   "metadata": {
    "id": "zVeanzdd0q1E"
   },
   "outputs": [
    {
     "name": "stdout",
     "output_type": "stream",
     "text": [
      "<class 'pandas.core.frame.DataFrame'>\n",
      "RangeIndex: 104825 entries, 0 to 104824\n",
      "Data columns (total 4 columns):\n",
      " #   Column        Non-Null Count   Dtype         \n",
      "---  ------        --------------   -----         \n",
      " 0   id            104825 non-null  object        \n",
      " 1   user_id       104825 non-null  int64         \n",
      " 2   session_date  104825 non-null  datetime64[ns]\n",
      " 3   mb_used       104825 non-null  float64       \n",
      "dtypes: datetime64[ns](1), float64(1), int64(1), object(1)\n",
      "memory usage: 3.2+ MB\n"
     ]
    }
   ],
   "source": [
    "#Trasnformación de datos de tipo `string` a tipo `datetime` en `session_date`\n",
    "\n",
    "df_internet['session_date'] = pd.to_datetime(df_internet['session_date'])\n",
    "\n",
    "df_internet.info()"
   ]
  },
  {
   "cell_type": "markdown",
   "metadata": {},
   "source": [
    "[Volver a Contenidos](#back)"
   ]
  },
  {
   "cell_type": "markdown",
   "metadata": {
    "id": "hMR1tP5d0q1F"
   },
   "source": [
    "## Agregar datos por usuario\n"
   ]
  },
  {
   "cell_type": "code",
   "execution_count": 17,
   "metadata": {},
   "outputs": [
    {
     "name": "stdout",
     "output_type": "stream",
     "text": [
      "Rango de fechas de los registros: 2018-01-15 00:00:00  -  2018-12-31 00:00:00\n"
     ]
    }
   ],
   "source": [
    "# Conocer el rango de fechas con las que se trabaja\n",
    "print(f\"Rango de fechas de los registros: {df_calls['call_date'].min()}  -  {df_calls['call_date'].max()}\")"
   ]
  },
  {
   "cell_type": "code",
   "execution_count": 18,
   "metadata": {
    "id": "A332cedB0q1G"
   },
   "outputs": [
    {
     "data": {
      "text/html": [
       "<div>\n",
       "<style scoped>\n",
       "    .dataframe tbody tr th:only-of-type {\n",
       "        vertical-align: middle;\n",
       "    }\n",
       "\n",
       "    .dataframe tbody tr th {\n",
       "        vertical-align: top;\n",
       "    }\n",
       "\n",
       "    .dataframe thead th {\n",
       "        text-align: right;\n",
       "    }\n",
       "</style>\n",
       "<table border=\"1\" class=\"dataframe\">\n",
       "  <thead>\n",
       "    <tr style=\"text-align: right;\">\n",
       "      <th></th>\n",
       "      <th>user_id</th>\n",
       "      <th>month</th>\n",
       "      <th>calls_number</th>\n",
       "    </tr>\n",
       "  </thead>\n",
       "  <tbody>\n",
       "    <tr>\n",
       "      <th>1242</th>\n",
       "      <td>1267</td>\n",
       "      <td>12</td>\n",
       "      <td>205</td>\n",
       "    </tr>\n",
       "    <tr>\n",
       "      <th>1487</th>\n",
       "      <td>1329</td>\n",
       "      <td>12</td>\n",
       "      <td>191</td>\n",
       "    </tr>\n",
       "    <tr>\n",
       "      <th>1733</th>\n",
       "      <td>1382</td>\n",
       "      <td>8</td>\n",
       "      <td>182</td>\n",
       "    </tr>\n",
       "    <tr>\n",
       "      <th>1100</th>\n",
       "      <td>1240</td>\n",
       "      <td>9</td>\n",
       "      <td>180</td>\n",
       "    </tr>\n",
       "    <tr>\n",
       "      <th>1669</th>\n",
       "      <td>1365</td>\n",
       "      <td>12</td>\n",
       "      <td>180</td>\n",
       "    </tr>\n",
       "    <tr>\n",
       "      <th>...</th>\n",
       "      <td>...</td>\n",
       "      <td>...</td>\n",
       "      <td>...</td>\n",
       "    </tr>\n",
       "    <tr>\n",
       "      <th>1541</th>\n",
       "      <td>1339</td>\n",
       "      <td>11</td>\n",
       "      <td>1</td>\n",
       "    </tr>\n",
       "    <tr>\n",
       "      <th>1539</th>\n",
       "      <td>1339</td>\n",
       "      <td>9</td>\n",
       "      <td>1</td>\n",
       "    </tr>\n",
       "    <tr>\n",
       "      <th>1388</th>\n",
       "      <td>1310</td>\n",
       "      <td>11</td>\n",
       "      <td>1</td>\n",
       "    </tr>\n",
       "    <tr>\n",
       "      <th>432</th>\n",
       "      <td>1094</td>\n",
       "      <td>10</td>\n",
       "      <td>1</td>\n",
       "    </tr>\n",
       "    <tr>\n",
       "      <th>174</th>\n",
       "      <td>1044</td>\n",
       "      <td>8</td>\n",
       "      <td>1</td>\n",
       "    </tr>\n",
       "  </tbody>\n",
       "</table>\n",
       "<p>2258 rows × 3 columns</p>\n",
       "</div>"
      ],
      "text/plain": [
       "      user_id  month  calls_number\n",
       "1242     1267     12           205\n",
       "1487     1329     12           191\n",
       "1733     1382      8           182\n",
       "1100     1240      9           180\n",
       "1669     1365     12           180\n",
       "...       ...    ...           ...\n",
       "1541     1339     11             1\n",
       "1539     1339      9             1\n",
       "1388     1310     11             1\n",
       "432      1094     10             1\n",
       "174      1044      8             1\n",
       "\n",
       "[2258 rows x 3 columns]"
      ]
     },
     "execution_count": 18,
     "metadata": {},
     "output_type": "execute_result"
    }
   ],
   "source": [
    "# Calcular el número de llamadas hechas por cada usuario al mes.\n",
    "\n",
    "df_calls_number =  df_calls.groupby(['user_id', df_calls['call_date'].dt.month])['id'].count().reset_index()\n",
    "\n",
    "df_calls_number.columns = ['user_id','month','calls_number']\n",
    "\n",
    "df_calls_number.sort_values('calls_number', ascending=False)"
   ]
  },
  {
   "cell_type": "code",
   "execution_count": 19,
   "metadata": {
    "id": "aw2cmuql0q1G"
   },
   "outputs": [
    {
     "data": {
      "text/html": [
       "<div>\n",
       "<style scoped>\n",
       "    .dataframe tbody tr th:only-of-type {\n",
       "        vertical-align: middle;\n",
       "    }\n",
       "\n",
       "    .dataframe tbody tr th {\n",
       "        vertical-align: top;\n",
       "    }\n",
       "\n",
       "    .dataframe thead th {\n",
       "        text-align: right;\n",
       "    }\n",
       "</style>\n",
       "<table border=\"1\" class=\"dataframe\">\n",
       "  <thead>\n",
       "    <tr style=\"text-align: right;\">\n",
       "      <th></th>\n",
       "      <th>user_id</th>\n",
       "      <th>month</th>\n",
       "      <th>call_duration</th>\n",
       "    </tr>\n",
       "  </thead>\n",
       "  <tbody>\n",
       "    <tr>\n",
       "      <th>1242</th>\n",
       "      <td>1267</td>\n",
       "      <td>12</td>\n",
       "      <td>1510</td>\n",
       "    </tr>\n",
       "    <tr>\n",
       "      <th>1487</th>\n",
       "      <td>1329</td>\n",
       "      <td>12</td>\n",
       "      <td>1369</td>\n",
       "    </tr>\n",
       "    <tr>\n",
       "      <th>1669</th>\n",
       "      <td>1365</td>\n",
       "      <td>12</td>\n",
       "      <td>1357</td>\n",
       "    </tr>\n",
       "    <tr>\n",
       "      <th>1459</th>\n",
       "      <td>1324</td>\n",
       "      <td>11</td>\n",
       "      <td>1304</td>\n",
       "    </tr>\n",
       "    <tr>\n",
       "      <th>1737</th>\n",
       "      <td>1382</td>\n",
       "      <td>12</td>\n",
       "      <td>1295</td>\n",
       "    </tr>\n",
       "    <tr>\n",
       "      <th>...</th>\n",
       "      <td>...</td>\n",
       "      <td>...</td>\n",
       "      <td>...</td>\n",
       "    </tr>\n",
       "    <tr>\n",
       "      <th>1383</th>\n",
       "      <td>1306</td>\n",
       "      <td>11</td>\n",
       "      <td>6</td>\n",
       "    </tr>\n",
       "    <tr>\n",
       "      <th>1905</th>\n",
       "      <td>1414</td>\n",
       "      <td>8</td>\n",
       "      <td>4</td>\n",
       "    </tr>\n",
       "    <tr>\n",
       "      <th>1539</th>\n",
       "      <td>1339</td>\n",
       "      <td>9</td>\n",
       "      <td>2</td>\n",
       "    </tr>\n",
       "    <tr>\n",
       "      <th>432</th>\n",
       "      <td>1094</td>\n",
       "      <td>10</td>\n",
       "      <td>0</td>\n",
       "    </tr>\n",
       "    <tr>\n",
       "      <th>1873</th>\n",
       "      <td>1407</td>\n",
       "      <td>11</td>\n",
       "      <td>0</td>\n",
       "    </tr>\n",
       "  </tbody>\n",
       "</table>\n",
       "<p>2258 rows × 3 columns</p>\n",
       "</div>"
      ],
      "text/plain": [
       "      user_id  month  call_duration\n",
       "1242     1267     12           1510\n",
       "1487     1329     12           1369\n",
       "1669     1365     12           1357\n",
       "1459     1324     11           1304\n",
       "1737     1382     12           1295\n",
       "...       ...    ...            ...\n",
       "1383     1306     11              6\n",
       "1905     1414      8              4\n",
       "1539     1339      9              2\n",
       "432      1094     10              0\n",
       "1873     1407     11              0\n",
       "\n",
       "[2258 rows x 3 columns]"
      ]
     },
     "execution_count": 19,
     "metadata": {},
     "output_type": "execute_result"
    }
   ],
   "source": [
    "# Calcular la cantidad de minutos usados por cada usuario al mes. \n",
    "\n",
    "df_calls_minutes = df_calls.groupby(['user_id', df_calls['call_date'].dt.month])['duration'].sum().reset_index()\n",
    "\n",
    "df_calls_minutes.columns = ['user_id', 'month', 'call_duration']\n",
    "\n",
    "df_calls_minutes.sort_values('call_duration', ascending=False)"
   ]
  },
  {
   "cell_type": "code",
   "execution_count": 20,
   "metadata": {
    "id": "CcQvNHn60q1G"
   },
   "outputs": [
    {
     "data": {
      "text/html": [
       "<div>\n",
       "<style scoped>\n",
       "    .dataframe tbody tr th:only-of-type {\n",
       "        vertical-align: middle;\n",
       "    }\n",
       "\n",
       "    .dataframe tbody tr th {\n",
       "        vertical-align: top;\n",
       "    }\n",
       "\n",
       "    .dataframe thead th {\n",
       "        text-align: right;\n",
       "    }\n",
       "</style>\n",
       "<table border=\"1\" class=\"dataframe\">\n",
       "  <thead>\n",
       "    <tr style=\"text-align: right;\">\n",
       "      <th></th>\n",
       "      <th>user_id</th>\n",
       "      <th>month</th>\n",
       "      <th>message_number</th>\n",
       "    </tr>\n",
       "  </thead>\n",
       "  <tbody>\n",
       "    <tr>\n",
       "      <th>140</th>\n",
       "      <td>1052</td>\n",
       "      <td>12</td>\n",
       "      <td>266</td>\n",
       "    </tr>\n",
       "    <tr>\n",
       "      <th>1418</th>\n",
       "      <td>1381</td>\n",
       "      <td>10</td>\n",
       "      <td>224</td>\n",
       "    </tr>\n",
       "    <tr>\n",
       "      <th>1419</th>\n",
       "      <td>1381</td>\n",
       "      <td>11</td>\n",
       "      <td>180</td>\n",
       "    </tr>\n",
       "    <tr>\n",
       "      <th>1212</th>\n",
       "      <td>1328</td>\n",
       "      <td>12</td>\n",
       "      <td>168</td>\n",
       "    </tr>\n",
       "    <tr>\n",
       "      <th>485</th>\n",
       "      <td>1132</td>\n",
       "      <td>11</td>\n",
       "      <td>166</td>\n",
       "    </tr>\n",
       "    <tr>\n",
       "      <th>...</th>\n",
       "      <td>...</td>\n",
       "      <td>...</td>\n",
       "      <td>...</td>\n",
       "    </tr>\n",
       "    <tr>\n",
       "      <th>434</th>\n",
       "      <td>1123</td>\n",
       "      <td>6</td>\n",
       "      <td>1</td>\n",
       "    </tr>\n",
       "    <tr>\n",
       "      <th>1015</th>\n",
       "      <td>1263</td>\n",
       "      <td>12</td>\n",
       "      <td>1</td>\n",
       "    </tr>\n",
       "    <tr>\n",
       "      <th>1772</th>\n",
       "      <td>1484</td>\n",
       "      <td>11</td>\n",
       "      <td>1</td>\n",
       "    </tr>\n",
       "    <tr>\n",
       "      <th>1014</th>\n",
       "      <td>1263</td>\n",
       "      <td>11</td>\n",
       "      <td>1</td>\n",
       "    </tr>\n",
       "    <tr>\n",
       "      <th>1505</th>\n",
       "      <td>1407</td>\n",
       "      <td>11</td>\n",
       "      <td>1</td>\n",
       "    </tr>\n",
       "  </tbody>\n",
       "</table>\n",
       "<p>1806 rows × 3 columns</p>\n",
       "</div>"
      ],
      "text/plain": [
       "      user_id  month  message_number\n",
       "140      1052     12             266\n",
       "1418     1381     10             224\n",
       "1419     1381     11             180\n",
       "1212     1328     12             168\n",
       "485      1132     11             166\n",
       "...       ...    ...             ...\n",
       "434      1123      6               1\n",
       "1015     1263     12               1\n",
       "1772     1484     11               1\n",
       "1014     1263     11               1\n",
       "1505     1407     11               1\n",
       "\n",
       "[1806 rows x 3 columns]"
      ]
     },
     "execution_count": 20,
     "metadata": {},
     "output_type": "execute_result"
    }
   ],
   "source": [
    "# Calcular el número de mensajes enviados por cada usuario al mes. \n",
    "\n",
    "df_message_number =  df_messages.groupby(['user_id', df_messages['message_date'].dt.month])['id'].count().reset_index()\n",
    "\n",
    "df_message_number.columns = ['user_id', 'month', 'message_number']\n",
    "\n",
    "df_message_number.sort_values('message_number', ascending=False)"
   ]
  },
  {
   "cell_type": "code",
   "execution_count": 21,
   "metadata": {
    "id": "H1AqN2eG0q1H"
   },
   "outputs": [
    {
     "data": {
      "text/html": [
       "<div>\n",
       "<style scoped>\n",
       "    .dataframe tbody tr th:only-of-type {\n",
       "        vertical-align: middle;\n",
       "    }\n",
       "\n",
       "    .dataframe tbody tr th {\n",
       "        vertical-align: top;\n",
       "    }\n",
       "\n",
       "    .dataframe thead th {\n",
       "        text-align: right;\n",
       "    }\n",
       "</style>\n",
       "<table border=\"1\" class=\"dataframe\">\n",
       "  <thead>\n",
       "    <tr style=\"text-align: right;\">\n",
       "      <th></th>\n",
       "      <th>user_id</th>\n",
       "      <th>month</th>\n",
       "      <th>gb_used</th>\n",
       "    </tr>\n",
       "  </thead>\n",
       "  <tbody>\n",
       "    <tr>\n",
       "      <th>1752</th>\n",
       "      <td>1379</td>\n",
       "      <td>12</td>\n",
       "      <td>70</td>\n",
       "    </tr>\n",
       "    <tr>\n",
       "      <th>569</th>\n",
       "      <td>1121</td>\n",
       "      <td>12</td>\n",
       "      <td>66</td>\n",
       "    </tr>\n",
       "    <tr>\n",
       "      <th>1359</th>\n",
       "      <td>1292</td>\n",
       "      <td>12</td>\n",
       "      <td>51</td>\n",
       "    </tr>\n",
       "    <tr>\n",
       "      <th>1355</th>\n",
       "      <td>1292</td>\n",
       "      <td>8</td>\n",
       "      <td>51</td>\n",
       "    </tr>\n",
       "    <tr>\n",
       "      <th>1126</th>\n",
       "      <td>1240</td>\n",
       "      <td>8</td>\n",
       "      <td>49</td>\n",
       "    </tr>\n",
       "    <tr>\n",
       "      <th>...</th>\n",
       "      <td>...</td>\n",
       "      <td>...</td>\n",
       "      <td>...</td>\n",
       "    </tr>\n",
       "    <tr>\n",
       "      <th>557</th>\n",
       "      <td>1119</td>\n",
       "      <td>11</td>\n",
       "      <td>1</td>\n",
       "    </tr>\n",
       "    <tr>\n",
       "      <th>995</th>\n",
       "      <td>1209</td>\n",
       "      <td>8</td>\n",
       "      <td>1</td>\n",
       "    </tr>\n",
       "    <tr>\n",
       "      <th>2198</th>\n",
       "      <td>1482</td>\n",
       "      <td>12</td>\n",
       "      <td>1</td>\n",
       "    </tr>\n",
       "    <tr>\n",
       "      <th>125</th>\n",
       "      <td>1034</td>\n",
       "      <td>8</td>\n",
       "      <td>1</td>\n",
       "    </tr>\n",
       "    <tr>\n",
       "      <th>2199</th>\n",
       "      <td>1483</td>\n",
       "      <td>4</td>\n",
       "      <td>1</td>\n",
       "    </tr>\n",
       "  </tbody>\n",
       "</table>\n",
       "<p>2277 rows × 3 columns</p>\n",
       "</div>"
      ],
      "text/plain": [
       "      user_id  month  gb_used\n",
       "1752     1379     12       70\n",
       "569      1121     12       66\n",
       "1359     1292     12       51\n",
       "1355     1292      8       51\n",
       "1126     1240      8       49\n",
       "...       ...    ...      ...\n",
       "557      1119     11        1\n",
       "995      1209      8        1\n",
       "2198     1482     12        1\n",
       "125      1034      8        1\n",
       "2199     1483      4        1\n",
       "\n",
       "[2277 rows x 3 columns]"
      ]
     },
     "execution_count": 21,
     "metadata": {},
     "output_type": "execute_result"
    }
   ],
   "source": [
    "# Calcular el volumen del tráfico de Internet usado por cada usuario al mes.\n",
    "\n",
    "df_internet_volumen = df_internet.groupby(['user_id', df_internet['session_date'].dt.month])['mb_used'].sum().reset_index()\n",
    "\n",
    "\n",
    "# Nota: Megaline redondea los segundos a minutos y los megabytes a gigabytes. \n",
    "# Entonces se redondea el volumen del tráfico de Internet usado por cada usuario al mes de mb a gb\n",
    "# y se convierte la columna al tipo de dato entero\n",
    "df_internet_volumen['mb_used'] = np.ceil(df_internet_volumen['mb_used'] / 1024).astype('int')\n",
    "\n",
    "df_internet_volumen. columns = ['user_id', 'month', 'gb_used']\n",
    "\n",
    "df_internet_volumen.sort_values('gb_used', ascending=False)"
   ]
  },
  {
   "cell_type": "code",
   "execution_count": 22,
   "metadata": {
    "id": "FW99ykyf0q1H"
   },
   "outputs": [
    {
     "data": {
      "text/html": [
       "<div>\n",
       "<style scoped>\n",
       "    .dataframe tbody tr th:only-of-type {\n",
       "        vertical-align: middle;\n",
       "    }\n",
       "\n",
       "    .dataframe tbody tr th {\n",
       "        vertical-align: top;\n",
       "    }\n",
       "\n",
       "    .dataframe thead th {\n",
       "        text-align: right;\n",
       "    }\n",
       "</style>\n",
       "<table border=\"1\" class=\"dataframe\">\n",
       "  <thead>\n",
       "    <tr style=\"text-align: right;\">\n",
       "      <th></th>\n",
       "      <th>user_id</th>\n",
       "      <th>month</th>\n",
       "      <th>calls_number</th>\n",
       "      <th>call_duration</th>\n",
       "      <th>message_number</th>\n",
       "      <th>gb_used</th>\n",
       "    </tr>\n",
       "  </thead>\n",
       "  <tbody>\n",
       "    <tr>\n",
       "      <th>0</th>\n",
       "      <td>1000</td>\n",
       "      <td>12</td>\n",
       "      <td>16.0</td>\n",
       "      <td>124.0</td>\n",
       "      <td>11.0</td>\n",
       "      <td>2.0</td>\n",
       "    </tr>\n",
       "    <tr>\n",
       "      <th>1</th>\n",
       "      <td>1001</td>\n",
       "      <td>8</td>\n",
       "      <td>27.0</td>\n",
       "      <td>182.0</td>\n",
       "      <td>30.0</td>\n",
       "      <td>7.0</td>\n",
       "    </tr>\n",
       "    <tr>\n",
       "      <th>2</th>\n",
       "      <td>1001</td>\n",
       "      <td>9</td>\n",
       "      <td>49.0</td>\n",
       "      <td>315.0</td>\n",
       "      <td>44.0</td>\n",
       "      <td>14.0</td>\n",
       "    </tr>\n",
       "    <tr>\n",
       "      <th>3</th>\n",
       "      <td>1001</td>\n",
       "      <td>10</td>\n",
       "      <td>65.0</td>\n",
       "      <td>393.0</td>\n",
       "      <td>53.0</td>\n",
       "      <td>22.0</td>\n",
       "    </tr>\n",
       "    <tr>\n",
       "      <th>4</th>\n",
       "      <td>1001</td>\n",
       "      <td>11</td>\n",
       "      <td>64.0</td>\n",
       "      <td>426.0</td>\n",
       "      <td>36.0</td>\n",
       "      <td>19.0</td>\n",
       "    </tr>\n",
       "    <tr>\n",
       "      <th>...</th>\n",
       "      <td>...</td>\n",
       "      <td>...</td>\n",
       "      <td>...</td>\n",
       "      <td>...</td>\n",
       "      <td>...</td>\n",
       "      <td>...</td>\n",
       "    </tr>\n",
       "    <tr>\n",
       "      <th>2288</th>\n",
       "      <td>1498</td>\n",
       "      <td>12</td>\n",
       "      <td>39.0</td>\n",
       "      <td>339.0</td>\n",
       "      <td>0.0</td>\n",
       "      <td>23.0</td>\n",
       "    </tr>\n",
       "    <tr>\n",
       "      <th>2289</th>\n",
       "      <td>1499</td>\n",
       "      <td>9</td>\n",
       "      <td>41.0</td>\n",
       "      <td>346.0</td>\n",
       "      <td>0.0</td>\n",
       "      <td>13.0</td>\n",
       "    </tr>\n",
       "    <tr>\n",
       "      <th>2290</th>\n",
       "      <td>1499</td>\n",
       "      <td>10</td>\n",
       "      <td>53.0</td>\n",
       "      <td>385.0</td>\n",
       "      <td>0.0</td>\n",
       "      <td>20.0</td>\n",
       "    </tr>\n",
       "    <tr>\n",
       "      <th>2291</th>\n",
       "      <td>1499</td>\n",
       "      <td>11</td>\n",
       "      <td>45.0</td>\n",
       "      <td>308.0</td>\n",
       "      <td>0.0</td>\n",
       "      <td>17.0</td>\n",
       "    </tr>\n",
       "    <tr>\n",
       "      <th>2292</th>\n",
       "      <td>1499</td>\n",
       "      <td>12</td>\n",
       "      <td>65.0</td>\n",
       "      <td>496.0</td>\n",
       "      <td>0.0</td>\n",
       "      <td>22.0</td>\n",
       "    </tr>\n",
       "  </tbody>\n",
       "</table>\n",
       "<p>2293 rows × 6 columns</p>\n",
       "</div>"
      ],
      "text/plain": [
       "      user_id  month  calls_number  call_duration  message_number  gb_used\n",
       "0        1000     12          16.0          124.0            11.0      2.0\n",
       "1        1001      8          27.0          182.0            30.0      7.0\n",
       "2        1001      9          49.0          315.0            44.0     14.0\n",
       "3        1001     10          65.0          393.0            53.0     22.0\n",
       "4        1001     11          64.0          426.0            36.0     19.0\n",
       "...       ...    ...           ...            ...             ...      ...\n",
       "2288     1498     12          39.0          339.0             0.0     23.0\n",
       "2289     1499      9          41.0          346.0             0.0     13.0\n",
       "2290     1499     10          53.0          385.0             0.0     20.0\n",
       "2291     1499     11          45.0          308.0             0.0     17.0\n",
       "2292     1499     12          65.0          496.0             0.0     22.0\n",
       "\n",
       "[2293 rows x 6 columns]"
      ]
     },
     "execution_count": 22,
     "metadata": {},
     "output_type": "execute_result"
    }
   ],
   "source": [
    "# Fusionar los datos de llamadas, minutos, mensajes e Internet con base en user_id y month\n",
    "df_merged = pd.merge(df_calls_number, df_calls_minutes, on=['user_id', 'month'], how='outer')\n",
    "df_merged = pd.merge(df_merged, df_message_number, on=['user_id', 'month'], how='outer')\n",
    "df_merged = pd.merge(df_merged, df_internet_volumen, on=['user_id', 'month'], how='outer')\n",
    "\n",
    "#Reemplazar valores nulos con 0 (indica que no se realizaron llamadas, mensajes o uso de internet)\n",
    "df_merged['calls_number'] = df_merged['calls_number'].fillna(0)\n",
    "df_merged['call_duration'] = df_merged['call_duration'].fillna(0)\n",
    "df_merged['message_number'] = df_merged['message_number'].fillna(0)\n",
    "df_merged['gb_used'] = df_merged['gb_used'].fillna(0)\n",
    "df_merged"
   ]
  },
  {
   "cell_type": "code",
   "execution_count": 23,
   "metadata": {
    "id": "0dNOXHag0q1H"
   },
   "outputs": [
    {
     "data": {
      "text/html": [
       "<div>\n",
       "<style scoped>\n",
       "    .dataframe tbody tr th:only-of-type {\n",
       "        vertical-align: middle;\n",
       "    }\n",
       "\n",
       "    .dataframe tbody tr th {\n",
       "        vertical-align: top;\n",
       "    }\n",
       "\n",
       "    .dataframe thead th {\n",
       "        text-align: right;\n",
       "    }\n",
       "</style>\n",
       "<table border=\"1\" class=\"dataframe\">\n",
       "  <thead>\n",
       "    <tr style=\"text-align: right;\">\n",
       "      <th></th>\n",
       "      <th>user_id</th>\n",
       "      <th>month</th>\n",
       "      <th>calls_number</th>\n",
       "      <th>call_duration</th>\n",
       "      <th>message_number</th>\n",
       "      <th>gb_used</th>\n",
       "      <th>plan</th>\n",
       "    </tr>\n",
       "  </thead>\n",
       "  <tbody>\n",
       "    <tr>\n",
       "      <th>0</th>\n",
       "      <td>1000</td>\n",
       "      <td>12</td>\n",
       "      <td>16.0</td>\n",
       "      <td>124.0</td>\n",
       "      <td>11.0</td>\n",
       "      <td>2.0</td>\n",
       "      <td>ultimate</td>\n",
       "    </tr>\n",
       "    <tr>\n",
       "      <th>1</th>\n",
       "      <td>1001</td>\n",
       "      <td>8</td>\n",
       "      <td>27.0</td>\n",
       "      <td>182.0</td>\n",
       "      <td>30.0</td>\n",
       "      <td>7.0</td>\n",
       "      <td>surf</td>\n",
       "    </tr>\n",
       "    <tr>\n",
       "      <th>2</th>\n",
       "      <td>1001</td>\n",
       "      <td>9</td>\n",
       "      <td>49.0</td>\n",
       "      <td>315.0</td>\n",
       "      <td>44.0</td>\n",
       "      <td>14.0</td>\n",
       "      <td>surf</td>\n",
       "    </tr>\n",
       "    <tr>\n",
       "      <th>3</th>\n",
       "      <td>1001</td>\n",
       "      <td>10</td>\n",
       "      <td>65.0</td>\n",
       "      <td>393.0</td>\n",
       "      <td>53.0</td>\n",
       "      <td>22.0</td>\n",
       "      <td>surf</td>\n",
       "    </tr>\n",
       "    <tr>\n",
       "      <th>4</th>\n",
       "      <td>1001</td>\n",
       "      <td>11</td>\n",
       "      <td>64.0</td>\n",
       "      <td>426.0</td>\n",
       "      <td>36.0</td>\n",
       "      <td>19.0</td>\n",
       "      <td>surf</td>\n",
       "    </tr>\n",
       "    <tr>\n",
       "      <th>...</th>\n",
       "      <td>...</td>\n",
       "      <td>...</td>\n",
       "      <td>...</td>\n",
       "      <td>...</td>\n",
       "      <td>...</td>\n",
       "      <td>...</td>\n",
       "      <td>...</td>\n",
       "    </tr>\n",
       "    <tr>\n",
       "      <th>2288</th>\n",
       "      <td>1498</td>\n",
       "      <td>12</td>\n",
       "      <td>39.0</td>\n",
       "      <td>339.0</td>\n",
       "      <td>0.0</td>\n",
       "      <td>23.0</td>\n",
       "      <td>surf</td>\n",
       "    </tr>\n",
       "    <tr>\n",
       "      <th>2289</th>\n",
       "      <td>1499</td>\n",
       "      <td>9</td>\n",
       "      <td>41.0</td>\n",
       "      <td>346.0</td>\n",
       "      <td>0.0</td>\n",
       "      <td>13.0</td>\n",
       "      <td>surf</td>\n",
       "    </tr>\n",
       "    <tr>\n",
       "      <th>2290</th>\n",
       "      <td>1499</td>\n",
       "      <td>10</td>\n",
       "      <td>53.0</td>\n",
       "      <td>385.0</td>\n",
       "      <td>0.0</td>\n",
       "      <td>20.0</td>\n",
       "      <td>surf</td>\n",
       "    </tr>\n",
       "    <tr>\n",
       "      <th>2291</th>\n",
       "      <td>1499</td>\n",
       "      <td>11</td>\n",
       "      <td>45.0</td>\n",
       "      <td>308.0</td>\n",
       "      <td>0.0</td>\n",
       "      <td>17.0</td>\n",
       "      <td>surf</td>\n",
       "    </tr>\n",
       "    <tr>\n",
       "      <th>2292</th>\n",
       "      <td>1499</td>\n",
       "      <td>12</td>\n",
       "      <td>65.0</td>\n",
       "      <td>496.0</td>\n",
       "      <td>0.0</td>\n",
       "      <td>22.0</td>\n",
       "      <td>surf</td>\n",
       "    </tr>\n",
       "  </tbody>\n",
       "</table>\n",
       "<p>2293 rows × 7 columns</p>\n",
       "</div>"
      ],
      "text/plain": [
       "      user_id  month  calls_number  call_duration  message_number  gb_used  \\\n",
       "0        1000     12          16.0          124.0            11.0      2.0   \n",
       "1        1001      8          27.0          182.0            30.0      7.0   \n",
       "2        1001      9          49.0          315.0            44.0     14.0   \n",
       "3        1001     10          65.0          393.0            53.0     22.0   \n",
       "4        1001     11          64.0          426.0            36.0     19.0   \n",
       "...       ...    ...           ...            ...             ...      ...   \n",
       "2288     1498     12          39.0          339.0             0.0     23.0   \n",
       "2289     1499      9          41.0          346.0             0.0     13.0   \n",
       "2290     1499     10          53.0          385.0             0.0     20.0   \n",
       "2291     1499     11          45.0          308.0             0.0     17.0   \n",
       "2292     1499     12          65.0          496.0             0.0     22.0   \n",
       "\n",
       "          plan  \n",
       "0     ultimate  \n",
       "1         surf  \n",
       "2         surf  \n",
       "3         surf  \n",
       "4         surf  \n",
       "...        ...  \n",
       "2288      surf  \n",
       "2289      surf  \n",
       "2290      surf  \n",
       "2291      surf  \n",
       "2292      surf  \n",
       "\n",
       "[2293 rows x 7 columns]"
      ]
     },
     "execution_count": 23,
     "metadata": {},
     "output_type": "execute_result"
    }
   ],
   "source": [
    "# Añadir la información de la tarifa\n",
    "df_merged = pd.merge(df_merged, df_users[['user_id', 'plan']], on='user_id', how='left')\n",
    "\n",
    "df_merged"
   ]
  },
  {
   "cell_type": "code",
   "execution_count": 24,
   "metadata": {
    "id": "5FGCf_c60q1I"
   },
   "outputs": [],
   "source": [
    "# Calcula el ingreso mensual para cada usuario\n",
    "\n",
    "\"\"\"\n",
    "    La función `get_data_plans` recupera el valor de una columna específica del DataFrame plans basándose en el nombre del plan.\n",
    "    \n",
    "    :param nombre_plan: El nombre del plan del que desea recuperar datos\n",
    "    :param columna: El parámetro columna es el nombre de la columna del DataFrame del que desea\n",
    "    recuperar los datos\n",
    "    :return: el valor de la columna especificada para el nombre del plan dado en el marco de datos df_plans.\n",
    "\"\"\"\n",
    "def get_data_plans(plan_name, column):\n",
    "    return df_plans[df_plans['plan_name'] == plan_name][column].values[0]"
   ]
  },
  {
   "cell_type": "code",
   "execution_count": 25,
   "metadata": {},
   "outputs": [
    {
     "data": {
      "text/html": [
       "<div>\n",
       "<style scoped>\n",
       "    .dataframe tbody tr th:only-of-type {\n",
       "        vertical-align: middle;\n",
       "    }\n",
       "\n",
       "    .dataframe tbody tr th {\n",
       "        vertical-align: top;\n",
       "    }\n",
       "\n",
       "    .dataframe thead th {\n",
       "        text-align: right;\n",
       "    }\n",
       "</style>\n",
       "<table border=\"1\" class=\"dataframe\">\n",
       "  <thead>\n",
       "    <tr style=\"text-align: right;\">\n",
       "      <th></th>\n",
       "      <th>user_id</th>\n",
       "      <th>month</th>\n",
       "      <th>calls_number</th>\n",
       "      <th>call_duration</th>\n",
       "      <th>message_number</th>\n",
       "      <th>gb_used</th>\n",
       "      <th>plan</th>\n",
       "      <th>calls_exceeded</th>\n",
       "      <th>message_exceeded</th>\n",
       "      <th>gb_exceeded</th>\n",
       "    </tr>\n",
       "  </thead>\n",
       "  <tbody>\n",
       "    <tr>\n",
       "      <th>0</th>\n",
       "      <td>1000</td>\n",
       "      <td>12</td>\n",
       "      <td>16.0</td>\n",
       "      <td>124.0</td>\n",
       "      <td>11.0</td>\n",
       "      <td>2.0</td>\n",
       "      <td>ultimate</td>\n",
       "      <td>-2876.0</td>\n",
       "      <td>-989.0</td>\n",
       "      <td>-28.0</td>\n",
       "    </tr>\n",
       "    <tr>\n",
       "      <th>1</th>\n",
       "      <td>1001</td>\n",
       "      <td>8</td>\n",
       "      <td>27.0</td>\n",
       "      <td>182.0</td>\n",
       "      <td>30.0</td>\n",
       "      <td>7.0</td>\n",
       "      <td>surf</td>\n",
       "      <td>-318.0</td>\n",
       "      <td>-20.0</td>\n",
       "      <td>-8.0</td>\n",
       "    </tr>\n",
       "    <tr>\n",
       "      <th>2</th>\n",
       "      <td>1001</td>\n",
       "      <td>9</td>\n",
       "      <td>49.0</td>\n",
       "      <td>315.0</td>\n",
       "      <td>44.0</td>\n",
       "      <td>14.0</td>\n",
       "      <td>surf</td>\n",
       "      <td>-185.0</td>\n",
       "      <td>-6.0</td>\n",
       "      <td>-1.0</td>\n",
       "    </tr>\n",
       "    <tr>\n",
       "      <th>3</th>\n",
       "      <td>1001</td>\n",
       "      <td>10</td>\n",
       "      <td>65.0</td>\n",
       "      <td>393.0</td>\n",
       "      <td>53.0</td>\n",
       "      <td>22.0</td>\n",
       "      <td>surf</td>\n",
       "      <td>-107.0</td>\n",
       "      <td>3.0</td>\n",
       "      <td>7.0</td>\n",
       "    </tr>\n",
       "    <tr>\n",
       "      <th>4</th>\n",
       "      <td>1001</td>\n",
       "      <td>11</td>\n",
       "      <td>64.0</td>\n",
       "      <td>426.0</td>\n",
       "      <td>36.0</td>\n",
       "      <td>19.0</td>\n",
       "      <td>surf</td>\n",
       "      <td>-74.0</td>\n",
       "      <td>-14.0</td>\n",
       "      <td>4.0</td>\n",
       "    </tr>\n",
       "    <tr>\n",
       "      <th>...</th>\n",
       "      <td>...</td>\n",
       "      <td>...</td>\n",
       "      <td>...</td>\n",
       "      <td>...</td>\n",
       "      <td>...</td>\n",
       "      <td>...</td>\n",
       "      <td>...</td>\n",
       "      <td>...</td>\n",
       "      <td>...</td>\n",
       "      <td>...</td>\n",
       "    </tr>\n",
       "    <tr>\n",
       "      <th>2288</th>\n",
       "      <td>1498</td>\n",
       "      <td>12</td>\n",
       "      <td>39.0</td>\n",
       "      <td>339.0</td>\n",
       "      <td>0.0</td>\n",
       "      <td>23.0</td>\n",
       "      <td>surf</td>\n",
       "      <td>-161.0</td>\n",
       "      <td>-50.0</td>\n",
       "      <td>8.0</td>\n",
       "    </tr>\n",
       "    <tr>\n",
       "      <th>2289</th>\n",
       "      <td>1499</td>\n",
       "      <td>9</td>\n",
       "      <td>41.0</td>\n",
       "      <td>346.0</td>\n",
       "      <td>0.0</td>\n",
       "      <td>13.0</td>\n",
       "      <td>surf</td>\n",
       "      <td>-154.0</td>\n",
       "      <td>-50.0</td>\n",
       "      <td>-2.0</td>\n",
       "    </tr>\n",
       "    <tr>\n",
       "      <th>2290</th>\n",
       "      <td>1499</td>\n",
       "      <td>10</td>\n",
       "      <td>53.0</td>\n",
       "      <td>385.0</td>\n",
       "      <td>0.0</td>\n",
       "      <td>20.0</td>\n",
       "      <td>surf</td>\n",
       "      <td>-115.0</td>\n",
       "      <td>-50.0</td>\n",
       "      <td>5.0</td>\n",
       "    </tr>\n",
       "    <tr>\n",
       "      <th>2291</th>\n",
       "      <td>1499</td>\n",
       "      <td>11</td>\n",
       "      <td>45.0</td>\n",
       "      <td>308.0</td>\n",
       "      <td>0.0</td>\n",
       "      <td>17.0</td>\n",
       "      <td>surf</td>\n",
       "      <td>-192.0</td>\n",
       "      <td>-50.0</td>\n",
       "      <td>2.0</td>\n",
       "    </tr>\n",
       "    <tr>\n",
       "      <th>2292</th>\n",
       "      <td>1499</td>\n",
       "      <td>12</td>\n",
       "      <td>65.0</td>\n",
       "      <td>496.0</td>\n",
       "      <td>0.0</td>\n",
       "      <td>22.0</td>\n",
       "      <td>surf</td>\n",
       "      <td>-4.0</td>\n",
       "      <td>-50.0</td>\n",
       "      <td>7.0</td>\n",
       "    </tr>\n",
       "  </tbody>\n",
       "</table>\n",
       "<p>2293 rows × 10 columns</p>\n",
       "</div>"
      ],
      "text/plain": [
       "      user_id  month  calls_number  call_duration  message_number  gb_used  \\\n",
       "0        1000     12          16.0          124.0            11.0      2.0   \n",
       "1        1001      8          27.0          182.0            30.0      7.0   \n",
       "2        1001      9          49.0          315.0            44.0     14.0   \n",
       "3        1001     10          65.0          393.0            53.0     22.0   \n",
       "4        1001     11          64.0          426.0            36.0     19.0   \n",
       "...       ...    ...           ...            ...             ...      ...   \n",
       "2288     1498     12          39.0          339.0             0.0     23.0   \n",
       "2289     1499      9          41.0          346.0             0.0     13.0   \n",
       "2290     1499     10          53.0          385.0             0.0     20.0   \n",
       "2291     1499     11          45.0          308.0             0.0     17.0   \n",
       "2292     1499     12          65.0          496.0             0.0     22.0   \n",
       "\n",
       "          plan  calls_exceeded  message_exceeded  gb_exceeded  \n",
       "0     ultimate         -2876.0            -989.0        -28.0  \n",
       "1         surf          -318.0             -20.0         -8.0  \n",
       "2         surf          -185.0              -6.0         -1.0  \n",
       "3         surf          -107.0               3.0          7.0  \n",
       "4         surf           -74.0             -14.0          4.0  \n",
       "...        ...             ...               ...          ...  \n",
       "2288      surf          -161.0             -50.0          8.0  \n",
       "2289      surf          -154.0             -50.0         -2.0  \n",
       "2290      surf          -115.0             -50.0          5.0  \n",
       "2291      surf          -192.0             -50.0          2.0  \n",
       "2292      surf            -4.0             -50.0          7.0  \n",
       "\n",
       "[2293 rows x 10 columns]"
      ]
     },
     "execution_count": 25,
     "metadata": {},
     "output_type": "execute_result"
    }
   ],
   "source": [
    "# Aplicar una función anonima para calcular los excedentes del uso de minutos, mensajes y gb en internet\n",
    "\n",
    "# Diferencia entre el límite del plan y la duración de la llamada de un usuario al mes\n",
    "df_merged['calls_exceeded'] = df_merged.apply(lambda row: row['call_duration'] - get_data_plans(row['plan'], 'minutes_included'), axis=1)\n",
    "\n",
    "# Diferencia entre el límite del plan y la cantidad de SMS de un usuario al mes\n",
    "df_merged['message_exceeded'] = df_merged.apply(lambda row: row['message_number'] - get_data_plans(row['plan'], 'messages_included'), axis=1)\n",
    "\n",
    "# Diferencia entre el límite del plan y la cantidad de GB usadas por un usuario al mes\n",
    "df_merged['gb_exceeded'] = df_merged.apply(lambda row: row['gb_used'] - (get_data_plans(row['plan'], 'mb_per_month_included') / 1024), axis=1)\n",
    "\n",
    "df_merged\n"
   ]
  },
  {
   "cell_type": "code",
   "execution_count": 26,
   "metadata": {},
   "outputs": [
    {
     "data": {
      "text/html": [
       "<div>\n",
       "<style scoped>\n",
       "    .dataframe tbody tr th:only-of-type {\n",
       "        vertical-align: middle;\n",
       "    }\n",
       "\n",
       "    .dataframe tbody tr th {\n",
       "        vertical-align: top;\n",
       "    }\n",
       "\n",
       "    .dataframe thead th {\n",
       "        text-align: right;\n",
       "    }\n",
       "</style>\n",
       "<table border=\"1\" class=\"dataframe\">\n",
       "  <thead>\n",
       "    <tr style=\"text-align: right;\">\n",
       "      <th></th>\n",
       "      <th>user_id</th>\n",
       "      <th>month</th>\n",
       "      <th>calls_number</th>\n",
       "      <th>call_duration</th>\n",
       "      <th>message_number</th>\n",
       "      <th>gb_used</th>\n",
       "      <th>plan</th>\n",
       "      <th>calls_exceeded</th>\n",
       "      <th>message_exceeded</th>\n",
       "      <th>gb_exceeded</th>\n",
       "    </tr>\n",
       "  </thead>\n",
       "  <tbody>\n",
       "    <tr>\n",
       "      <th>0</th>\n",
       "      <td>1000</td>\n",
       "      <td>12</td>\n",
       "      <td>16.0</td>\n",
       "      <td>124.0</td>\n",
       "      <td>11.0</td>\n",
       "      <td>2.0</td>\n",
       "      <td>ultimate</td>\n",
       "      <td>0.0</td>\n",
       "      <td>0.0</td>\n",
       "      <td>0.0</td>\n",
       "    </tr>\n",
       "    <tr>\n",
       "      <th>1</th>\n",
       "      <td>1001</td>\n",
       "      <td>8</td>\n",
       "      <td>27.0</td>\n",
       "      <td>182.0</td>\n",
       "      <td>30.0</td>\n",
       "      <td>7.0</td>\n",
       "      <td>surf</td>\n",
       "      <td>0.0</td>\n",
       "      <td>0.0</td>\n",
       "      <td>0.0</td>\n",
       "    </tr>\n",
       "    <tr>\n",
       "      <th>2</th>\n",
       "      <td>1001</td>\n",
       "      <td>9</td>\n",
       "      <td>49.0</td>\n",
       "      <td>315.0</td>\n",
       "      <td>44.0</td>\n",
       "      <td>14.0</td>\n",
       "      <td>surf</td>\n",
       "      <td>0.0</td>\n",
       "      <td>0.0</td>\n",
       "      <td>0.0</td>\n",
       "    </tr>\n",
       "    <tr>\n",
       "      <th>3</th>\n",
       "      <td>1001</td>\n",
       "      <td>10</td>\n",
       "      <td>65.0</td>\n",
       "      <td>393.0</td>\n",
       "      <td>53.0</td>\n",
       "      <td>22.0</td>\n",
       "      <td>surf</td>\n",
       "      <td>0.0</td>\n",
       "      <td>3.0</td>\n",
       "      <td>7.0</td>\n",
       "    </tr>\n",
       "    <tr>\n",
       "      <th>4</th>\n",
       "      <td>1001</td>\n",
       "      <td>11</td>\n",
       "      <td>64.0</td>\n",
       "      <td>426.0</td>\n",
       "      <td>36.0</td>\n",
       "      <td>19.0</td>\n",
       "      <td>surf</td>\n",
       "      <td>0.0</td>\n",
       "      <td>0.0</td>\n",
       "      <td>4.0</td>\n",
       "    </tr>\n",
       "    <tr>\n",
       "      <th>...</th>\n",
       "      <td>...</td>\n",
       "      <td>...</td>\n",
       "      <td>...</td>\n",
       "      <td>...</td>\n",
       "      <td>...</td>\n",
       "      <td>...</td>\n",
       "      <td>...</td>\n",
       "      <td>...</td>\n",
       "      <td>...</td>\n",
       "      <td>...</td>\n",
       "    </tr>\n",
       "    <tr>\n",
       "      <th>2288</th>\n",
       "      <td>1498</td>\n",
       "      <td>12</td>\n",
       "      <td>39.0</td>\n",
       "      <td>339.0</td>\n",
       "      <td>0.0</td>\n",
       "      <td>23.0</td>\n",
       "      <td>surf</td>\n",
       "      <td>0.0</td>\n",
       "      <td>0.0</td>\n",
       "      <td>8.0</td>\n",
       "    </tr>\n",
       "    <tr>\n",
       "      <th>2289</th>\n",
       "      <td>1499</td>\n",
       "      <td>9</td>\n",
       "      <td>41.0</td>\n",
       "      <td>346.0</td>\n",
       "      <td>0.0</td>\n",
       "      <td>13.0</td>\n",
       "      <td>surf</td>\n",
       "      <td>0.0</td>\n",
       "      <td>0.0</td>\n",
       "      <td>0.0</td>\n",
       "    </tr>\n",
       "    <tr>\n",
       "      <th>2290</th>\n",
       "      <td>1499</td>\n",
       "      <td>10</td>\n",
       "      <td>53.0</td>\n",
       "      <td>385.0</td>\n",
       "      <td>0.0</td>\n",
       "      <td>20.0</td>\n",
       "      <td>surf</td>\n",
       "      <td>0.0</td>\n",
       "      <td>0.0</td>\n",
       "      <td>5.0</td>\n",
       "    </tr>\n",
       "    <tr>\n",
       "      <th>2291</th>\n",
       "      <td>1499</td>\n",
       "      <td>11</td>\n",
       "      <td>45.0</td>\n",
       "      <td>308.0</td>\n",
       "      <td>0.0</td>\n",
       "      <td>17.0</td>\n",
       "      <td>surf</td>\n",
       "      <td>0.0</td>\n",
       "      <td>0.0</td>\n",
       "      <td>2.0</td>\n",
       "    </tr>\n",
       "    <tr>\n",
       "      <th>2292</th>\n",
       "      <td>1499</td>\n",
       "      <td>12</td>\n",
       "      <td>65.0</td>\n",
       "      <td>496.0</td>\n",
       "      <td>0.0</td>\n",
       "      <td>22.0</td>\n",
       "      <td>surf</td>\n",
       "      <td>0.0</td>\n",
       "      <td>0.0</td>\n",
       "      <td>7.0</td>\n",
       "    </tr>\n",
       "  </tbody>\n",
       "</table>\n",
       "<p>2293 rows × 10 columns</p>\n",
       "</div>"
      ],
      "text/plain": [
       "      user_id  month  calls_number  call_duration  message_number  gb_used  \\\n",
       "0        1000     12          16.0          124.0            11.0      2.0   \n",
       "1        1001      8          27.0          182.0            30.0      7.0   \n",
       "2        1001      9          49.0          315.0            44.0     14.0   \n",
       "3        1001     10          65.0          393.0            53.0     22.0   \n",
       "4        1001     11          64.0          426.0            36.0     19.0   \n",
       "...       ...    ...           ...            ...             ...      ...   \n",
       "2288     1498     12          39.0          339.0             0.0     23.0   \n",
       "2289     1499      9          41.0          346.0             0.0     13.0   \n",
       "2290     1499     10          53.0          385.0             0.0     20.0   \n",
       "2291     1499     11          45.0          308.0             0.0     17.0   \n",
       "2292     1499     12          65.0          496.0             0.0     22.0   \n",
       "\n",
       "          plan  calls_exceeded  message_exceeded  gb_exceeded  \n",
       "0     ultimate             0.0               0.0          0.0  \n",
       "1         surf             0.0               0.0          0.0  \n",
       "2         surf             0.0               0.0          0.0  \n",
       "3         surf             0.0               3.0          7.0  \n",
       "4         surf             0.0               0.0          4.0  \n",
       "...        ...             ...               ...          ...  \n",
       "2288      surf             0.0               0.0          8.0  \n",
       "2289      surf             0.0               0.0          0.0  \n",
       "2290      surf             0.0               0.0          5.0  \n",
       "2291      surf             0.0               0.0          2.0  \n",
       "2292      surf             0.0               0.0          7.0  \n",
       "\n",
       "[2293 rows x 10 columns]"
      ]
     },
     "execution_count": 26,
     "metadata": {},
     "output_type": "execute_result"
    }
   ],
   "source": [
    "# Si no excede el límite del plan se reemplaza su valor con 0\n",
    "\n",
    "def replace_non_exceeded(column_name):\n",
    "    df_merged[column_name] = df_merged[column_name].apply(lambda x: max(x, 0))\n",
    "\n",
    "    \n",
    "replace_non_exceeded('calls_exceeded')\n",
    "replace_non_exceeded('message_exceeded')\n",
    "replace_non_exceeded('gb_exceeded')\n",
    "\n",
    "df_merged"
   ]
  },
  {
   "cell_type": "code",
   "execution_count": 27,
   "metadata": {
    "scrolled": true
   },
   "outputs": [
    {
     "data": {
      "text/html": [
       "<div>\n",
       "<style scoped>\n",
       "    .dataframe tbody tr th:only-of-type {\n",
       "        vertical-align: middle;\n",
       "    }\n",
       "\n",
       "    .dataframe tbody tr th {\n",
       "        vertical-align: top;\n",
       "    }\n",
       "\n",
       "    .dataframe thead th {\n",
       "        text-align: right;\n",
       "    }\n",
       "</style>\n",
       "<table border=\"1\" class=\"dataframe\">\n",
       "  <thead>\n",
       "    <tr style=\"text-align: right;\">\n",
       "      <th></th>\n",
       "      <th>user_id</th>\n",
       "      <th>month</th>\n",
       "      <th>calls_number</th>\n",
       "      <th>call_duration</th>\n",
       "      <th>message_number</th>\n",
       "      <th>gb_used</th>\n",
       "      <th>plan</th>\n",
       "      <th>calls_exceeded</th>\n",
       "      <th>message_exceeded</th>\n",
       "      <th>gb_exceeded</th>\n",
       "      <th>income_per_user</th>\n",
       "    </tr>\n",
       "  </thead>\n",
       "  <tbody>\n",
       "    <tr>\n",
       "      <th>0</th>\n",
       "      <td>1000</td>\n",
       "      <td>12</td>\n",
       "      <td>16.0</td>\n",
       "      <td>124.0</td>\n",
       "      <td>11.0</td>\n",
       "      <td>2.0</td>\n",
       "      <td>ultimate</td>\n",
       "      <td>0.0</td>\n",
       "      <td>0.0</td>\n",
       "      <td>0.0</td>\n",
       "      <td>70.00</td>\n",
       "    </tr>\n",
       "    <tr>\n",
       "      <th>1</th>\n",
       "      <td>1001</td>\n",
       "      <td>8</td>\n",
       "      <td>27.0</td>\n",
       "      <td>182.0</td>\n",
       "      <td>30.0</td>\n",
       "      <td>7.0</td>\n",
       "      <td>surf</td>\n",
       "      <td>0.0</td>\n",
       "      <td>0.0</td>\n",
       "      <td>0.0</td>\n",
       "      <td>20.00</td>\n",
       "    </tr>\n",
       "    <tr>\n",
       "      <th>2</th>\n",
       "      <td>1001</td>\n",
       "      <td>9</td>\n",
       "      <td>49.0</td>\n",
       "      <td>315.0</td>\n",
       "      <td>44.0</td>\n",
       "      <td>14.0</td>\n",
       "      <td>surf</td>\n",
       "      <td>0.0</td>\n",
       "      <td>0.0</td>\n",
       "      <td>0.0</td>\n",
       "      <td>20.00</td>\n",
       "    </tr>\n",
       "    <tr>\n",
       "      <th>3</th>\n",
       "      <td>1001</td>\n",
       "      <td>10</td>\n",
       "      <td>65.0</td>\n",
       "      <td>393.0</td>\n",
       "      <td>53.0</td>\n",
       "      <td>22.0</td>\n",
       "      <td>surf</td>\n",
       "      <td>0.0</td>\n",
       "      <td>3.0</td>\n",
       "      <td>7.0</td>\n",
       "      <td>90.09</td>\n",
       "    </tr>\n",
       "    <tr>\n",
       "      <th>4</th>\n",
       "      <td>1001</td>\n",
       "      <td>11</td>\n",
       "      <td>64.0</td>\n",
       "      <td>426.0</td>\n",
       "      <td>36.0</td>\n",
       "      <td>19.0</td>\n",
       "      <td>surf</td>\n",
       "      <td>0.0</td>\n",
       "      <td>0.0</td>\n",
       "      <td>4.0</td>\n",
       "      <td>60.00</td>\n",
       "    </tr>\n",
       "    <tr>\n",
       "      <th>...</th>\n",
       "      <td>...</td>\n",
       "      <td>...</td>\n",
       "      <td>...</td>\n",
       "      <td>...</td>\n",
       "      <td>...</td>\n",
       "      <td>...</td>\n",
       "      <td>...</td>\n",
       "      <td>...</td>\n",
       "      <td>...</td>\n",
       "      <td>...</td>\n",
       "      <td>...</td>\n",
       "    </tr>\n",
       "    <tr>\n",
       "      <th>2288</th>\n",
       "      <td>1498</td>\n",
       "      <td>12</td>\n",
       "      <td>39.0</td>\n",
       "      <td>339.0</td>\n",
       "      <td>0.0</td>\n",
       "      <td>23.0</td>\n",
       "      <td>surf</td>\n",
       "      <td>0.0</td>\n",
       "      <td>0.0</td>\n",
       "      <td>8.0</td>\n",
       "      <td>100.00</td>\n",
       "    </tr>\n",
       "    <tr>\n",
       "      <th>2289</th>\n",
       "      <td>1499</td>\n",
       "      <td>9</td>\n",
       "      <td>41.0</td>\n",
       "      <td>346.0</td>\n",
       "      <td>0.0</td>\n",
       "      <td>13.0</td>\n",
       "      <td>surf</td>\n",
       "      <td>0.0</td>\n",
       "      <td>0.0</td>\n",
       "      <td>0.0</td>\n",
       "      <td>20.00</td>\n",
       "    </tr>\n",
       "    <tr>\n",
       "      <th>2290</th>\n",
       "      <td>1499</td>\n",
       "      <td>10</td>\n",
       "      <td>53.0</td>\n",
       "      <td>385.0</td>\n",
       "      <td>0.0</td>\n",
       "      <td>20.0</td>\n",
       "      <td>surf</td>\n",
       "      <td>0.0</td>\n",
       "      <td>0.0</td>\n",
       "      <td>5.0</td>\n",
       "      <td>70.00</td>\n",
       "    </tr>\n",
       "    <tr>\n",
       "      <th>2291</th>\n",
       "      <td>1499</td>\n",
       "      <td>11</td>\n",
       "      <td>45.0</td>\n",
       "      <td>308.0</td>\n",
       "      <td>0.0</td>\n",
       "      <td>17.0</td>\n",
       "      <td>surf</td>\n",
       "      <td>0.0</td>\n",
       "      <td>0.0</td>\n",
       "      <td>2.0</td>\n",
       "      <td>40.00</td>\n",
       "    </tr>\n",
       "    <tr>\n",
       "      <th>2292</th>\n",
       "      <td>1499</td>\n",
       "      <td>12</td>\n",
       "      <td>65.0</td>\n",
       "      <td>496.0</td>\n",
       "      <td>0.0</td>\n",
       "      <td>22.0</td>\n",
       "      <td>surf</td>\n",
       "      <td>0.0</td>\n",
       "      <td>0.0</td>\n",
       "      <td>7.0</td>\n",
       "      <td>90.00</td>\n",
       "    </tr>\n",
       "  </tbody>\n",
       "</table>\n",
       "<p>2293 rows × 11 columns</p>\n",
       "</div>"
      ],
      "text/plain": [
       "      user_id  month  calls_number  call_duration  message_number  gb_used  \\\n",
       "0        1000     12          16.0          124.0            11.0      2.0   \n",
       "1        1001      8          27.0          182.0            30.0      7.0   \n",
       "2        1001      9          49.0          315.0            44.0     14.0   \n",
       "3        1001     10          65.0          393.0            53.0     22.0   \n",
       "4        1001     11          64.0          426.0            36.0     19.0   \n",
       "...       ...    ...           ...            ...             ...      ...   \n",
       "2288     1498     12          39.0          339.0             0.0     23.0   \n",
       "2289     1499      9          41.0          346.0             0.0     13.0   \n",
       "2290     1499     10          53.0          385.0             0.0     20.0   \n",
       "2291     1499     11          45.0          308.0             0.0     17.0   \n",
       "2292     1499     12          65.0          496.0             0.0     22.0   \n",
       "\n",
       "          plan  calls_exceeded  message_exceeded  gb_exceeded  income_per_user  \n",
       "0     ultimate             0.0               0.0          0.0            70.00  \n",
       "1         surf             0.0               0.0          0.0            20.00  \n",
       "2         surf             0.0               0.0          0.0            20.00  \n",
       "3         surf             0.0               3.0          7.0            90.09  \n",
       "4         surf             0.0               0.0          4.0            60.00  \n",
       "...        ...             ...               ...          ...              ...  \n",
       "2288      surf             0.0               0.0          8.0           100.00  \n",
       "2289      surf             0.0               0.0          0.0            20.00  \n",
       "2290      surf             0.0               0.0          5.0            70.00  \n",
       "2291      surf             0.0               0.0          2.0            40.00  \n",
       "2292      surf             0.0               0.0          7.0            90.00  \n",
       "\n",
       "[2293 rows x 11 columns]"
      ]
     },
     "execution_count": 27,
     "metadata": {},
     "output_type": "execute_result"
    }
   ],
   "source": [
    "# Cada excedente se multiplica por el costo extra de superar el límite permitido y se añade el valor base del plan\n",
    "\n",
    "# Calcular ingresos por usuario\n",
    "def calculate_user_income(row):\n",
    "    plan_name = row['plan']\n",
    "    usd_monthly_fee = get_data_plans(plan_name, 'usd_monthly_pay')\n",
    "    usd_per_minute = get_data_plans(plan_name, 'usd_per_minute')\n",
    "    usd_per_message = get_data_plans(plan_name, 'usd_per_message')\n",
    "    usd_per_gb = get_data_plans(plan_name, 'usd_per_gb')\n",
    "\n",
    "    income = usd_monthly_fee + (usd_per_minute * row['calls_exceeded']) + \\\n",
    "             (usd_per_message * row['message_exceeded']) + (usd_per_gb * row['gb_exceeded'])\n",
    "    \n",
    "    return income\n",
    "\n",
    "# Aplicar la función a cada fila del DataFrame\n",
    "df_merged['income_per_user'] = df_merged.apply(calculate_user_income, axis=1)\n",
    "\n",
    "\n",
    "df_merged"
   ]
  },
  {
   "cell_type": "code",
   "execution_count": 28,
   "metadata": {},
   "outputs": [
    {
     "name": "stdout",
     "output_type": "stream",
     "text": [
      "Ultimate income:  52066.0\n",
      "Surf income:  95491.18\n",
      "Total income:  147557.18\n"
     ]
    }
   ],
   "source": [
    "ultimate_income = df_merged[df_merged['plan']=='ultimate']['income_per_user'].sum()\n",
    "\n",
    "surf_income = df_merged[df_merged['plan']=='surf']['income_per_user'].sum()\n",
    "\n",
    "total_income = df_merged['income_per_user'].sum()\n",
    "\n",
    "print (\"Ultimate income: \", ultimate_income)\n",
    "print (\"Surf income: \", surf_income)\n",
    "print (\"Total income: \", total_income)"
   ]
  },
  {
   "cell_type": "markdown",
   "metadata": {},
   "source": [
    "[Volver a Contenidos](#back)"
   ]
  },
  {
   "cell_type": "markdown",
   "metadata": {
    "id": "-jtyHzJb0q1I"
   },
   "source": [
    "## Análisis de Datos <a id='data_analysis'></a>"
   ]
  },
  {
   "cell_type": "markdown",
   "metadata": {
    "id": "vtW4CJEe0q1J"
   },
   "source": [
    "### Llamadas"
   ]
  },
  {
   "cell_type": "code",
   "execution_count": 29,
   "metadata": {
    "id": "Jf5v5--k0q1J"
   },
   "outputs": [
    {
     "data": {
      "image/png": "[encoded data removed]",
      "text/plain": [
       "<Figure size 800x500 with 1 Axes>"
      ]
     },
     "metadata": {},
     "output_type": "display_data"
    }
   ],
   "source": [
    "# Comparar la duración promedio de llamadas por cada plan y por cada mes.\n",
    "\n",
    "\n",
    "# Agrupación de llamadas por plan y por mes. Promedio de la agrupación\n",
    "df_average_calls = df_merged.groupby(['plan','month'])['call_duration'].mean().reset_index()\n",
    "\n",
    "# Gráfica\n",
    "plt.figure(figsize=(8,5))\n",
    "\n",
    "# Gráfica para el plan ultimate\n",
    "plan_data = df_average_calls[df_average_calls['plan']=='ultimate']\n",
    "plt.bar(plan_data['month'], plan_data['call_duration'], label='Ultimate',  color='#0A668C')\n",
    "\n",
    "# Gráfica para el plan surf\n",
    "plan_data = df_average_calls[df_average_calls['plan']=='surf']\n",
    "plt.bar(plan_data['month'], plan_data['call_duration'], label='Surf', color='#ffa100', alpha=0.7)\n",
    "\n",
    "\n",
    "# Label, title and legend\n",
    "plt.xlabel('Month')\n",
    "plt.ylabel('Average Call Duration')\n",
    "plt.title('Average Call Duration per plan and month')\n",
    "plt.legend()\n",
    "plt.show()"
   ]
  },
  {
   "cell_type": "markdown",
   "metadata": {},
   "source": [
    "La gráfica muestra que el plan \"Ultimate\" tiene consistentemente una mayor duración promedio de llamadas en comparación con el plan \"Surf\" a lo largo del año, con una tendencia ascendente en la duración total hacia los últimos meses. Sin embargo, en los primeros meses, especialmente en el mes 2, el plan \"Ultimate\" contribuye significativamente a la duración total de las llamadas. A partir del mes 4, las duraciones se estabilizan y \"Surf\" domina casi completamente, alcanzando su punto más alto en el mes 12. inicio del año."
   ]
  },
  {
   "cell_type": "code",
   "execution_count": 30,
   "metadata": {
    "id": "QoLqW1S_0q1J"
   },
   "outputs": [
    {
     "data": {
      "image/png": "[encoded data removed]",
      "text/plain": [
       "<Figure size 1000x500 with 1 Axes>"
      ]
     },
     "metadata": {},
     "output_type": "display_data"
    }
   ],
   "source": [
    "# Comparar el número de minutos mensuales que necesitan los usuarios de cada plan. \n",
    "\n",
    "# Gráfica\n",
    "plt.figure(figsize=(10,5))\n",
    "\n",
    "# Gráfica para el plan ultimate\n",
    "plan_minutes = df_merged[df_merged['plan']=='ultimate']\n",
    "plt.hist(plan_minutes['call_duration'], bins=20, alpha=0.7, label='Ultimate')\n",
    "\n",
    "# Gráfica para el plan surf\n",
    "plan_minutes = df_merged[df_merged['plan']=='surf']\n",
    "plt.hist(plan_minutes['call_duration'], bins=20, alpha=0.7, label='Surf')\n",
    "\n",
    "# Label, title and legend\n",
    "plt.xlabel('Monthly call duration (minutes)')\n",
    "plt.ylabel('Frecuency')\n",
    "plt.title('Monthly Minutes per Plan')\n",
    "plt.legend()\n",
    "plt.show()\n",
    "\n"
   ]
  },
  {
   "cell_type": "markdown",
   "metadata": {},
   "source": [
    "La gráfica es un histograma que muestra la distribución de la duración mensual de llamadas por plan (\"Ultimate\" en azul y \"Surf\" en naranja). Se observa que la mayoría de los usuarios del plan \"Surf\" tienen duraciones mensuales de llamadas que se concentran entre 200 y 600 minutos, con un pico alrededor de los 400 minutos. En contraste, el plan \"Ultimate\" muestra una menor frecuencia en todos los rangos de duración, y su distribución está más dispersa, con algunos usuarios alcanzando hasta 1200 minutos. Esto indica que los usuarios del plan \"Surf\" tienden a tener un comportamiento más homogéneo en cuanto a la duración de llamadas, mientras que los usuarios del plan \"Ultimate\" son menos frecuentes pero con algunos casos de uso intensivo."
   ]
  },
  {
   "cell_type": "code",
   "execution_count": 31,
   "metadata": {
    "id": "oSndbAnt0q1K"
   },
   "outputs": [
    {
     "name": "stdout",
     "output_type": "stream",
     "text": [
      "Media del plan Ultimate\n"
     ]
    },
    {
     "data": {
      "text/html": [
       "<div>\n",
       "<style scoped>\n",
       "    .dataframe tbody tr th:only-of-type {\n",
       "        vertical-align: middle;\n",
       "    }\n",
       "\n",
       "    .dataframe tbody tr th {\n",
       "        vertical-align: top;\n",
       "    }\n",
       "\n",
       "    .dataframe thead th {\n",
       "        text-align: right;\n",
       "    }\n",
       "</style>\n",
       "<table border=\"1\" class=\"dataframe\">\n",
       "  <thead>\n",
       "    <tr style=\"text-align: right;\">\n",
       "      <th></th>\n",
       "      <th>month</th>\n",
       "      <th>call_duration</th>\n",
       "    </tr>\n",
       "  </thead>\n",
       "  <tbody>\n",
       "    <tr>\n",
       "      <th>0</th>\n",
       "      <td>1</td>\n",
       "      <td>193.500000</td>\n",
       "    </tr>\n",
       "    <tr>\n",
       "      <th>1</th>\n",
       "      <td>2</td>\n",
       "      <td>403.142857</td>\n",
       "    </tr>\n",
       "    <tr>\n",
       "      <th>2</th>\n",
       "      <td>3</td>\n",
       "      <td>304.250000</td>\n",
       "    </tr>\n",
       "    <tr>\n",
       "      <th>3</th>\n",
       "      <td>4</td>\n",
       "      <td>336.857143</td>\n",
       "    </tr>\n",
       "    <tr>\n",
       "      <th>4</th>\n",
       "      <td>5</td>\n",
       "      <td>406.241379</td>\n",
       "    </tr>\n",
       "    <tr>\n",
       "      <th>5</th>\n",
       "      <td>6</td>\n",
       "      <td>370.957447</td>\n",
       "    </tr>\n",
       "    <tr>\n",
       "      <th>6</th>\n",
       "      <td>7</td>\n",
       "      <td>427.067797</td>\n",
       "    </tr>\n",
       "    <tr>\n",
       "      <th>7</th>\n",
       "      <td>8</td>\n",
       "      <td>421.436620</td>\n",
       "    </tr>\n",
       "    <tr>\n",
       "      <th>8</th>\n",
       "      <td>9</td>\n",
       "      <td>437.511628</td>\n",
       "    </tr>\n",
       "    <tr>\n",
       "      <th>9</th>\n",
       "      <td>10</td>\n",
       "      <td>450.735849</td>\n",
       "    </tr>\n",
       "    <tr>\n",
       "      <th>10</th>\n",
       "      <td>11</td>\n",
       "      <td>445.196850</td>\n",
       "    </tr>\n",
       "    <tr>\n",
       "      <th>11</th>\n",
       "      <td>12</td>\n",
       "      <td>459.099338</td>\n",
       "    </tr>\n",
       "  </tbody>\n",
       "</table>\n",
       "</div>"
      ],
      "text/plain": [
       "    month  call_duration\n",
       "0       1     193.500000\n",
       "1       2     403.142857\n",
       "2       3     304.250000\n",
       "3       4     336.857143\n",
       "4       5     406.241379\n",
       "5       6     370.957447\n",
       "6       7     427.067797\n",
       "7       8     421.436620\n",
       "8       9     437.511628\n",
       "9      10     450.735849\n",
       "10     11     445.196850\n",
       "11     12     459.099338"
      ]
     },
     "metadata": {},
     "output_type": "display_data"
    },
    {
     "name": "stdout",
     "output_type": "stream",
     "text": [
      "Varianza del plan Ultimate\n"
     ]
    },
    {
     "data": {
      "text/html": [
       "<div>\n",
       "<style scoped>\n",
       "    .dataframe tbody tr th:only-of-type {\n",
       "        vertical-align: middle;\n",
       "    }\n",
       "\n",
       "    .dataframe tbody tr th {\n",
       "        vertical-align: top;\n",
       "    }\n",
       "\n",
       "    .dataframe thead th {\n",
       "        text-align: right;\n",
       "    }\n",
       "</style>\n",
       "<table border=\"1\" class=\"dataframe\">\n",
       "  <thead>\n",
       "    <tr style=\"text-align: right;\">\n",
       "      <th></th>\n",
       "      <th>month</th>\n",
       "      <th>call_duration</th>\n",
       "    </tr>\n",
       "  </thead>\n",
       "  <tbody>\n",
       "    <tr>\n",
       "      <th>0</th>\n",
       "      <td>1</td>\n",
       "      <td>16572.333333</td>\n",
       "    </tr>\n",
       "    <tr>\n",
       "      <th>1</th>\n",
       "      <td>2</td>\n",
       "      <td>76889.476190</td>\n",
       "    </tr>\n",
       "    <tr>\n",
       "      <th>2</th>\n",
       "      <td>3</td>\n",
       "      <td>61984.931818</td>\n",
       "    </tr>\n",
       "    <tr>\n",
       "      <th>3</th>\n",
       "      <td>4</td>\n",
       "      <td>34888.928571</td>\n",
       "    </tr>\n",
       "    <tr>\n",
       "      <th>4</th>\n",
       "      <td>5</td>\n",
       "      <td>43841.046798</td>\n",
       "    </tr>\n",
       "    <tr>\n",
       "      <th>5</th>\n",
       "      <td>6</td>\n",
       "      <td>42503.563367</td>\n",
       "    </tr>\n",
       "    <tr>\n",
       "      <th>6</th>\n",
       "      <td>7</td>\n",
       "      <td>72563.374635</td>\n",
       "    </tr>\n",
       "    <tr>\n",
       "      <th>7</th>\n",
       "      <td>8</td>\n",
       "      <td>53645.506640</td>\n",
       "    </tr>\n",
       "    <tr>\n",
       "      <th>8</th>\n",
       "      <td>9</td>\n",
       "      <td>57070.464569</td>\n",
       "    </tr>\n",
       "    <tr>\n",
       "      <th>9</th>\n",
       "      <td>10</td>\n",
       "      <td>54261.910512</td>\n",
       "    </tr>\n",
       "    <tr>\n",
       "      <th>10</th>\n",
       "      <td>11</td>\n",
       "      <td>60593.222847</td>\n",
       "    </tr>\n",
       "    <tr>\n",
       "      <th>11</th>\n",
       "      <td>12</td>\n",
       "      <td>62503.783400</td>\n",
       "    </tr>\n",
       "  </tbody>\n",
       "</table>\n",
       "</div>"
      ],
      "text/plain": [
       "    month  call_duration\n",
       "0       1   16572.333333\n",
       "1       2   76889.476190\n",
       "2       3   61984.931818\n",
       "3       4   34888.928571\n",
       "4       5   43841.046798\n",
       "5       6   42503.563367\n",
       "6       7   72563.374635\n",
       "7       8   53645.506640\n",
       "8       9   57070.464569\n",
       "9      10   54261.910512\n",
       "10     11   60593.222847\n",
       "11     12   62503.783400"
      ]
     },
     "metadata": {},
     "output_type": "display_data"
    },
    {
     "name": "stdout",
     "output_type": "stream",
     "text": [
      "Media del plan Surf\n"
     ]
    },
    {
     "data": {
      "text/html": [
       "<div>\n",
       "<style scoped>\n",
       "    .dataframe tbody tr th:only-of-type {\n",
       "        vertical-align: middle;\n",
       "    }\n",
       "\n",
       "    .dataframe tbody tr th {\n",
       "        vertical-align: top;\n",
       "    }\n",
       "\n",
       "    .dataframe thead th {\n",
       "        text-align: right;\n",
       "    }\n",
       "</style>\n",
       "<table border=\"1\" class=\"dataframe\">\n",
       "  <thead>\n",
       "    <tr style=\"text-align: right;\">\n",
       "      <th></th>\n",
       "      <th>month</th>\n",
       "      <th>call_duration</th>\n",
       "    </tr>\n",
       "  </thead>\n",
       "  <tbody>\n",
       "    <tr>\n",
       "      <th>0</th>\n",
       "      <td>1</td>\n",
       "      <td>203.000000</td>\n",
       "    </tr>\n",
       "    <tr>\n",
       "      <th>1</th>\n",
       "      <td>2</td>\n",
       "      <td>297.000000</td>\n",
       "    </tr>\n",
       "    <tr>\n",
       "      <th>2</th>\n",
       "      <td>3</td>\n",
       "      <td>330.000000</td>\n",
       "    </tr>\n",
       "    <tr>\n",
       "      <th>3</th>\n",
       "      <td>4</td>\n",
       "      <td>351.540000</td>\n",
       "    </tr>\n",
       "    <tr>\n",
       "      <th>4</th>\n",
       "      <td>5</td>\n",
       "      <td>399.584416</td>\n",
       "    </tr>\n",
       "    <tr>\n",
       "      <th>5</th>\n",
       "      <td>6</td>\n",
       "      <td>431.298969</td>\n",
       "    </tr>\n",
       "    <tr>\n",
       "      <th>6</th>\n",
       "      <td>7</td>\n",
       "      <td>449.983471</td>\n",
       "    </tr>\n",
       "    <tr>\n",
       "      <th>7</th>\n",
       "      <td>8</td>\n",
       "      <td>410.111111</td>\n",
       "    </tr>\n",
       "    <tr>\n",
       "      <th>8</th>\n",
       "      <td>9</td>\n",
       "      <td>414.226804</td>\n",
       "    </tr>\n",
       "    <tr>\n",
       "      <th>9</th>\n",
       "      <td>10</td>\n",
       "      <td>429.729958</td>\n",
       "    </tr>\n",
       "    <tr>\n",
       "      <th>10</th>\n",
       "      <td>11</td>\n",
       "      <td>423.325088</td>\n",
       "    </tr>\n",
       "    <tr>\n",
       "      <th>11</th>\n",
       "      <td>12</td>\n",
       "      <td>473.836478</td>\n",
       "    </tr>\n",
       "  </tbody>\n",
       "</table>\n",
       "</div>"
      ],
      "text/plain": [
       "    month  call_duration\n",
       "0       1     203.000000\n",
       "1       2     297.000000\n",
       "2       3     330.000000\n",
       "3       4     351.540000\n",
       "4       5     399.584416\n",
       "5       6     431.298969\n",
       "6       7     449.983471\n",
       "7       8     410.111111\n",
       "8       9     414.226804\n",
       "9      10     429.729958\n",
       "10     11     423.325088\n",
       "11     12     473.836478"
      ]
     },
     "metadata": {},
     "output_type": "display_data"
    },
    {
     "name": "stdout",
     "output_type": "stream",
     "text": [
      "Varianza del plan Surf\n"
     ]
    },
    {
     "data": {
      "text/html": [
       "<div>\n",
       "<style scoped>\n",
       "    .dataframe tbody tr th:only-of-type {\n",
       "        vertical-align: middle;\n",
       "    }\n",
       "\n",
       "    .dataframe tbody tr th {\n",
       "        vertical-align: top;\n",
       "    }\n",
       "\n",
       "    .dataframe thead th {\n",
       "        text-align: right;\n",
       "    }\n",
       "</style>\n",
       "<table border=\"1\" class=\"dataframe\">\n",
       "  <thead>\n",
       "    <tr style=\"text-align: right;\">\n",
       "      <th></th>\n",
       "      <th>month</th>\n",
       "      <th>call_duration</th>\n",
       "    </tr>\n",
       "  </thead>\n",
       "  <tbody>\n",
       "    <tr>\n",
       "      <th>0</th>\n",
       "      <td>1</td>\n",
       "      <td>15842.000000</td>\n",
       "    </tr>\n",
       "    <tr>\n",
       "      <th>1</th>\n",
       "      <td>2</td>\n",
       "      <td>52226.500000</td>\n",
       "    </tr>\n",
       "    <tr>\n",
       "      <th>2</th>\n",
       "      <td>3</td>\n",
       "      <td>35809.363636</td>\n",
       "    </tr>\n",
       "    <tr>\n",
       "      <th>3</th>\n",
       "      <td>4</td>\n",
       "      <td>50866.743265</td>\n",
       "    </tr>\n",
       "    <tr>\n",
       "      <th>4</th>\n",
       "      <td>5</td>\n",
       "      <td>59754.219754</td>\n",
       "    </tr>\n",
       "    <tr>\n",
       "      <th>5</th>\n",
       "      <td>6</td>\n",
       "      <td>45592.628436</td>\n",
       "    </tr>\n",
       "    <tr>\n",
       "      <th>6</th>\n",
       "      <td>7</td>\n",
       "      <td>61005.099725</td>\n",
       "    </tr>\n",
       "    <tr>\n",
       "      <th>7</th>\n",
       "      <td>8</td>\n",
       "      <td>54344.645963</td>\n",
       "    </tr>\n",
       "    <tr>\n",
       "      <th>8</th>\n",
       "      <td>9</td>\n",
       "      <td>46595.958656</td>\n",
       "    </tr>\n",
       "    <tr>\n",
       "      <th>9</th>\n",
       "      <td>10</td>\n",
       "      <td>52278.664056</td>\n",
       "    </tr>\n",
       "    <tr>\n",
       "      <th>10</th>\n",
       "      <td>11</td>\n",
       "      <td>51607.021602</td>\n",
       "    </tr>\n",
       "    <tr>\n",
       "      <th>11</th>\n",
       "      <td>12</td>\n",
       "      <td>63629.518918</td>\n",
       "    </tr>\n",
       "  </tbody>\n",
       "</table>\n",
       "</div>"
      ],
      "text/plain": [
       "    month  call_duration\n",
       "0       1   15842.000000\n",
       "1       2   52226.500000\n",
       "2       3   35809.363636\n",
       "3       4   50866.743265\n",
       "4       5   59754.219754\n",
       "5       6   45592.628436\n",
       "6       7   61005.099725\n",
       "7       8   54344.645963\n",
       "8       9   46595.958656\n",
       "9      10   52278.664056\n",
       "10     11   51607.021602\n",
       "11     12   63629.518918"
      ]
     },
     "metadata": {},
     "output_type": "display_data"
    }
   ],
   "source": [
    "# Calcular la media y la varianza de la duración mensual de llamadas.\n",
    "\n",
    "# Media y varianza del plan ultimate\n",
    "df_plan_ultimate = df_merged[df_merged['plan']=='ultimate'][['month', 'call_duration']]\n",
    "\n",
    "print('Media del plan Ultimate')\n",
    "#Media\n",
    "mean_ultimate = df_plan_ultimate.groupby('month')['call_duration'].mean().reset_index()\n",
    "display(mean_ultimate)\n",
    "\n",
    "print('Varianza del plan Ultimate')\n",
    "#Varianza\n",
    "var_ultimate = df_plan_ultimate.groupby('month')['call_duration'].var().reset_index()\n",
    "display(var_ultimate)\n",
    "\n",
    "\n",
    "# Media y varianza del plan surf\n",
    "df_plan_surf = df_merged[df_merged['plan']=='surf'][['month', 'call_duration']]\n",
    "\n",
    "print('Media del plan Surf')\n",
    "# Media\n",
    "mean_surf = df_plan_surf.groupby('month')['call_duration'].mean().reset_index()\n",
    "display(mean_surf)\n",
    "\n",
    "print('Varianza del plan Surf')\n",
    "# Varianza\n",
    "var_surf = df_plan_surf.groupby('month')['call_duration'].var().reset_index()\n",
    "display(var_surf)\n"
   ]
  },
  {
   "cell_type": "markdown",
   "metadata": {},
   "source": [
    "Las tablas muestran la media y la varianza de la duración de llamadas mensuales para los planes \"Ultimate\" y \"Surf\". \r\n",
    "\r\n",
    "Para el **plan Ultimate**, se observa que la media de la duración de llamadas aumenta gradualmente a lo largo del año, comenzando en 193.5 minutos en enero y alcanzando su punto más alto en diciembre con 459.1 minutos. La varianza, que indica la dispersión de los datos, también muestra fluctuaciones, con un pico en febrero ( 6,889.48) y una tendencia general a mantenerse alta a lo largo del año, lo que sugiere una variabilidad considerable en las duraciones de llamadas dentro de este plan.\r\n",
    "\r\n",
    "En el **plan Surf**, la media de la duración de llamadas también muestra un incremento a lo largo del año, iniciando en 203 minutos en enero y alcanzando 473.8 minutos en diciembre. La varianza es alta, pero no tan extrema como en el plan Ultimate, con un valor máximo en diciembre (63,629.52). Esto indica que aunque hay variabilidad, las duraciones de las llamadas en el plan Surf son un poco más consistentes en comparación con el plan Ultimate.\r\n",
    "\r\n",
    "En resumen, ambos planes muestran un aumento en la duración promedio de llamadas a lo largo del año, pero el plan Ultimate presenta una mayor variabilidad, lo que sugiere un comportamiento más diverso entre sus usuarios."
   ]
  },
  {
   "cell_type": "code",
   "execution_count": 32,
   "metadata": {
    "id": "nZzoRUKc0q1K"
   },
   "outputs": [
    {
     "data": {
      "image/png": "[encoded data removed]",
      "text/plain": [
       "<Figure size 1000x600 with 1 Axes>"
      ]
     },
     "metadata": {},
     "output_type": "display_data"
    },
    {
     "data": {
      "image/png": "[encoded data removed]",
      "text/plain": [
       "<Figure size 1000x600 with 1 Axes>"
      ]
     },
     "metadata": {},
     "output_type": "display_data"
    }
   ],
   "source": [
    "# Trazar un diagrama de caja para visualizar la distribución de la duración mensual de llamadas\n",
    "\n",
    "\n",
    "# Segementar columnas month y call_duration para los dos planes\n",
    "df_duration_utlitmate = df_merged[df_merged['plan']=='ultimate'][['month', 'call_duration']]\n",
    "df_duration_surf = df_merged[df_merged['plan']=='surf'][['month', 'call_duration']]\n",
    "\n",
    "# Crear un boxplot para ultimate\n",
    "plt.figure(figsize=(10, 6))\n",
    "plt.boxplot([df_duration_utlitmate[df_duration_utlitmate['month'] == month]['call_duration'] for month in df_duration_utlitmate['month'].unique()],\n",
    "            labels=df_duration_utlitmate['month'].unique(), boxprops=dict(color='#007f8d'))\n",
    "# Label, title and legend\n",
    "plt.xlabel('Month')\n",
    "plt.ylabel('Monthly call duration (minutes)')\n",
    "plt.title('Distribution of Monthly Call Duration - Ultimate')\n",
    "plt.show()\n",
    "\n",
    "\n",
    "# Crear un boxplot para surf\n",
    "plt.figure(figsize=(10, 6))\n",
    "plt.boxplot([df_duration_surf[df_duration_surf['month'] == month]['call_duration'] for month in df_duration_surf['month'].unique()],\n",
    "            labels=df_duration_surf['month'].unique(), boxprops=dict(color='#88f80a'))\n",
    "\n",
    "# Label, title and legend\n",
    "plt.xlabel('Month')\n",
    "plt.ylabel('Monthly call duration (minutes)')\n",
    "plt.title('Distribution of Monthly Call Duration - Surf')\n",
    "plt.show()\n"
   ]
  },
  {
   "cell_type": "markdown",
   "metadata": {
    "id": "r627zBO50q1K"
   },
   "source": [
    "**Conclusiones**\n",
    "\n",
    "Ambos planes experimentan un aumento en la duración promedio de llamadas hacia fin de año.\n",
    "\n",
    "El plan \"Surf\", a diferencia del plan \"Ultimate\", tiene un mayor número de usuarios que exceden los límites del plan base y, en algunos casos, se encuentran en el rango de valores atípicos. Esta observación podría ser considerada como una indicación para que la empresa ofrezca el plan \"Ultimate\" a estos usuarios, ya que este plan podría adaptarse mejor a sus necesidades y comportamientos de consumo.\n",
    "\n",
    "Los usuarios de ambos planes muestran variaciones en su comportamiento a lo largo del año, y la empresa podría beneficiarse al adaptar sus estrategias en función de estos patrones observados.\n"
   ]
  },
  {
   "cell_type": "markdown",
   "metadata": {},
   "source": [
    "[Volver a Contenidos](#back)"
   ]
  },
  {
   "cell_type": "markdown",
   "metadata": {
    "id": "8idKy8Wh0q1L"
   },
   "source": [
    "### Mensajes"
   ]
  },
  {
   "cell_type": "code",
   "execution_count": 33,
   "metadata": {
    "id": "NXLxiTit0q1L"
   },
   "outputs": [
    {
     "data": {
      "image/png": "[encoded data removed]",
      "text/plain": [
       "<Figure size 800x500 with 1 Axes>"
      ]
     },
     "metadata": {},
     "output_type": "display_data"
    }
   ],
   "source": [
    "# Comparar el número de mensajes que tienden a enviar cada mes los usuarios de cada plan\n",
    "\n",
    "\n",
    "# Agrupación de llamadas por plan y por mes. Promedio de la agrupación\n",
    "df_number_sms =  df_merged.groupby(['plan','month'])['message_number'].sum().reset_index()\n",
    "\n",
    "# Gráfica\n",
    "plt.figure(figsize=(8,5))\n",
    "\n",
    "# Gráfica para el plan ultimate\n",
    "plan_data = df_number_sms[df_number_sms['plan']=='ultimate']\n",
    "plt.bar(plan_data['month'], plan_data['message_number'], label='Ultimate',  color='#0A668C')\n",
    "\n",
    "# Gráfica para el plan surf\n",
    "plan_data = df_number_sms[df_number_sms['plan']=='surf']\n",
    "plt.bar(plan_data['month'], plan_data['message_number'], label='Surf', color='#ffa100',alpha=0.5)\n",
    "\n",
    "\n",
    "# Label, title and legend\n",
    "plt.xlabel('Month')\n",
    "plt.ylabel('Number of sms')\n",
    "plt.title('Number of sms per plan and month')\n",
    "plt.legend()\n",
    "plt.show()\n",
    "\n"
   ]
  },
  {
   "cell_type": "markdown",
   "metadata": {
    "id": "390SSL480q1M"
   },
   "source": [
    "A finales de año los usuarios de Megaline en los planes 'surf' y 'ultimate' presentan un mayor incremento de uso de mensajes. Esta tendencia en el aumento del uso de mensajes podría ser un elemento clave para que Megaline ajuste su estrategia comercial y promocional hacia fin de año. "
   ]
  },
  {
   "cell_type": "markdown",
   "metadata": {},
   "source": [
    "[Volver a Contenidos](#back)"
   ]
  },
  {
   "cell_type": "markdown",
   "metadata": {
    "id": "42YSypXz0q1M"
   },
   "source": [
    "### Internet"
   ]
  },
  {
   "cell_type": "code",
   "execution_count": 34,
   "metadata": {
    "id": "lSuKPtjh0q1M"
   },
   "outputs": [
    {
     "data": {
      "image/png": "[encoded data removed]",
      "text/plain": [
       "<Figure size 800x500 with 1 Axes>"
      ]
     },
     "metadata": {},
     "output_type": "display_data"
    }
   ],
   "source": [
    "# Comparar la cantidad de tráfico de Internet consumido por usuarios por plan\n",
    "\n",
    "\n",
    "\n",
    "# Agrupación de llamadas por plan y por mes. Promedio de la agrupación\n",
    "df_number_gb = df_merged.groupby(['plan','month'])['gb_used'].sum().reset_index()\n",
    "\n",
    "# Gráfica\n",
    "plt.figure(figsize=(8,5))\n",
    "\n",
    "# Gráfica para el plan ultimate\n",
    "plan_data = df_number_gb[df_number_gb['plan']=='ultimate']\n",
    "plt.bar(plan_data['month'], plan_data['gb_used'], label='Ultimate',  color='#0A668C')\n",
    "\n",
    "# Gráfica para el plan surf\n",
    "plan_data = df_number_gb[df_number_gb['plan']=='surf']\n",
    "plt.bar(plan_data['month'], plan_data['gb_used'], label='Surf', color='#ffa100', alpha=0.7)\n",
    "\n",
    "\n",
    "# Label, title and legend\n",
    "plt.xlabel('Month')\n",
    "plt.ylabel('Traffic volume')\n",
    "plt.title('Traffic volume per plan and month')\n",
    "plt.legend()\n",
    "plt.show()\n"
   ]
  },
  {
   "cell_type": "markdown",
   "metadata": {
    "id": "UN9zwuMP0q1N"
   },
   "source": [
    "A finales de año los usuarios de Megaline en los planes 'surf' y 'ultimate' presentan un mayor incremento de el tráfico de internet. "
   ]
  },
  {
   "cell_type": "markdown",
   "metadata": {},
   "source": [
    "[Volver a Contenidos](#back)"
   ]
  },
  {
   "cell_type": "markdown",
   "metadata": {
    "id": "tCijq3260q1N"
   },
   "source": [
    "## Ingreso"
   ]
  },
  {
   "cell_type": "code",
   "execution_count": 35,
   "metadata": {
    "id": "tz-dq_V00q1O"
   },
   "outputs": [
    {
     "data": {
      "text/plain": [
       "count    720.000000\n",
       "mean      72.313889\n",
       "std       11.395108\n",
       "min       70.000000\n",
       "25%       70.000000\n",
       "50%       70.000000\n",
       "75%       70.000000\n",
       "max      182.000000\n",
       "Name: income_per_user, dtype: float64"
      ]
     },
     "execution_count": 35,
     "metadata": {},
     "output_type": "execute_result"
    }
   ],
   "source": [
    "df_merged[df_merged['plan']=='ultimate']['income_per_user'].describe()"
   ]
  },
  {
   "cell_type": "code",
   "execution_count": 36,
   "metadata": {
    "id": "0Y1v8ZUz0q1P"
   },
   "outputs": [
    {
     "data": {
      "text/plain": [
       "count    1573.000000\n",
       "mean       60.706408\n",
       "std        55.388042\n",
       "min        20.000000\n",
       "25%        20.000000\n",
       "50%        40.360000\n",
       "75%        80.360000\n",
       "max       590.370000\n",
       "Name: income_per_user, dtype: float64"
      ]
     },
     "execution_count": 36,
     "metadata": {},
     "output_type": "execute_result"
    }
   ],
   "source": [
    "df_merged[df_merged['plan']=='surf']['income_per_user'].describe()"
   ]
  },
  {
   "cell_type": "code",
   "execution_count": 37,
   "metadata": {
    "id": "bYmwxyVh0q1P"
   },
   "outputs": [
    {
     "name": "stdout",
     "output_type": "stream",
     "text": [
      "Ultimate income:  52066.0\n",
      "Surf income:  95491.18\n",
      "Total income:  147557.18\n"
     ]
    }
   ],
   "source": [
    "ultimate_income = df_merged[df_merged['plan']=='ultimate']['income_per_user'].sum()\n",
    "\n",
    "surf_income = df_merged[df_merged['plan']=='surf']['income_per_user'].sum()\n",
    "\n",
    "total_income = df_merged['income_per_user'].sum()\n",
    "\n",
    "print (\"Ultimate income: \", ultimate_income)\n",
    "print (\"Surf income: \", surf_income)\n",
    "print (\"Total income: \", total_income)"
   ]
  },
  {
   "cell_type": "markdown",
   "metadata": {
    "id": "KAFidcXZ0q1P"
   },
   "source": [
    "**Estadísticas Descriptivas del Ingreso por Usuario:**\n",
    "   - **Plan \"Ultimate\":**\n",
    "     - **Media:** 72.31 USD\n",
    "     - **Ingreso Mínimo:** 70.00 USD\n",
    "     - **Ingreso Máximo:** 182.00 USD\n",
    "\n",
    "   - **Plan \"Surf\":**\n",
    "     - **Media:** 60.70 USD\n",
    "     - **Ingreso Mínimo:** 20.00 USD\n",
    "     - **Ingreso Máximo:** 590.00 USD\n",
    "\n",
    "**Comparación de Ingresos:**\n",
    "   - El ingreso promedio por usuario en el plan \"Ultimate\" es superior, con un valor de 72.31 USD en comparación con el plan \"Surf\" (60.70 USD).\n",
    "\n",
    "**Ingresos Totales:**\n",
    "   - El ingreso total generado por el plan \"Ultimate\" es de 52,066.00 USD.\n",
    "   - El ingreso total generado por el plan \"Surf\" es significativamente más alto, alcanzando los 95,491.18 USD.\n",
    "   - El ingreso total combinado de ambos planes asciende a 147,557.18 USD.\n",
    "\n",
    "**Conclusiones Generales:**\n",
    "- Aunque el ingreso promedio por usuario en el plan \"Ultimate\" es ligeramente más alto, el plan \"Surf\" genera un ingreso total sustancialmente mayor debido a su mayor base de usuarios.\n",
    "- La consistencia en los ingresos es mayor en el plan \"Ultimate\", mientras que el plan \"Surf\" presenta una mayor variabilidad.\n",
    "- La estrategia de ingresos y marketing podría beneficiarse al adaptarse a las características distintivas de cada plan para optimizar el rendimiento general."
   ]
  },
  {
   "cell_type": "markdown",
   "metadata": {},
   "source": [
    "[Volver a Contenidos](#back)"
   ]
  },
  {
   "cell_type": "markdown",
   "metadata": {
    "id": "ajJ7VKeI0q1Q"
   },
   "source": [
    "## Prueba las hipótesis estadísticas <a id='hypothesis'></a>"
   ]
  },
  {
   "cell_type": "markdown",
   "metadata": {
    "id": "AdXAZ-yL0q1Q"
   },
   "source": [
    "**Prueba de Hipótesis 1:** El ingreso promedio de los usuarios de las tarifas Ultimate y Surf difiere. \n",
    "\n",
    "*Se busca determinar si hay una diferencia significativa en el ingreso promedio entre los usuarios de las dos tarifas, entonces:*\n",
    "\n",
    "Hipótesis Nula (H0): El ingreso promedio de los usuarios de las tarifas \"Ultimate\" y \"Surf\" es igual.\n",
    "\n",
    "Hipótesis Alternativa (H1): El ingreso promedio de los usuarios de las tarifas \"Ultimate\" y \"Surf\" difiere.\n",
    "\n",
    "**Estadístico de prueba:** Se utilizará una prueba t de dos muestras para comparar los ingresos promedio de los dos grupos.\n",
    "\n",
    "**Valor Alfa (α):** Valor de 0.05 para la significancia estadística.\n",
    "\n"
   ]
  },
  {
   "cell_type": "code",
   "execution_count": 38,
   "metadata": {
    "id": "nFoPNlPq0q1R"
   },
   "outputs": [
    {
     "name": "stdout",
     "output_type": "stream",
     "text": [
      "valor p:  2.8626745106986436e-08\n",
      "Rechazamos la Hipótesis nula\n"
     ]
    }
   ],
   "source": [
    "# Prueba las hipótesis\n",
    "\n",
    "\n",
    "df_ultimate = df_merged[df_merged['plan']=='ultimate']['income_per_user']\n",
    "df_surf = df_merged[df_merged['plan']=='surf']['income_per_user']\n",
    "\n",
    "\n",
    "alpha = 0.05\n",
    "result = st.ttest_ind(df_ultimate, df_surf)\n",
    "\n",
    "print('valor p: ', result.pvalue)\n",
    "\n",
    "if result.pvalue< alpha:\n",
    "    print('Rechazamos la Hipótesis nula')\n",
    "else:\n",
    "    print(\"No podemos rechazar la hipótesis nula\")\n"
   ]
  },
  {
   "cell_type": "markdown",
   "metadata": {
    "id": "LsBgitqj0q1R"
   },
   "source": [
    "**Prueba de Hipótesis 2:** El ingreso promedio de los usuarios en el área de estados Nueva York-Nueva Jersey difiere al de los usuarios de otras regiones.\n",
    "\n",
    "*Se busca determinar si hay una diferencia significativa en el ingreso promedio entre los usuarios de Nueva York-Nueva Jersey y los de otras regiones, entonces:*\n",
    "\n",
    "\n",
    "**Hipótesis Nula (H0):** El ingreso promedio de los usuarios en el área de estados Nueva York-Nueva Jersey es igual al de los usuarios de otras regiones.\n",
    "\n",
    "**Hipótesis Alternativa (H1):** El ingreso promedio de los usuarios en el área de estados Nueva York-Nueva Jersey difiere al de los usuarios de otras regiones.\n",
    "\n",
    "\n",
    "**Estadístico de prueba:** Se utilizará una prueba t de dos muestras para comparar los ingresos promedio de los dos grupos.\n",
    "\n",
    "**Valor Alfa (α):** Valor de 0.05 para la significancia estadística."
   ]
  },
  {
   "cell_type": "code",
   "execution_count": 39,
   "metadata": {
    "id": "Cqcj7wrZ0q1S"
   },
   "outputs": [
    {
     "name": "stdout",
     "output_type": "stream",
     "text": [
      "valor p:  0.043557431621342436\n",
      "Rechazamos la Hipótesis nula\n"
     ]
    }
   ],
   "source": [
    "# Prueba las hipótesis\n",
    "\n",
    "df_merged_city = pd.merge(df_merged, df_users[['user_id', 'city']], on='user_id', how='left')\n",
    "\n",
    "df_selected_city = df_merged_city[df_merged_city['city']=='New York-Newark-Jersey City, NY-NJ-PA MSA']['income_per_user']\n",
    "df_others_city = df_merged_city[df_merged_city['city']!='New York-Newark-Jersey City, NY-NJ-PA MSA']['income_per_user']\n",
    "\n",
    "alpha = 0.05\n",
    "statistic, pvalue = st.ttest_ind(df_selected_city, df_others_city)\n",
    "\n",
    "print('valor p: ', pvalue)\n",
    "\n",
    "if pvalue< alpha:\n",
    "    print('Rechazamos la Hipótesis nula')\n",
    "else:\n",
    "    print(\"No podemos rechazar la hipótesis nula\")\n",
    "    "
   ]
  },
  {
   "cell_type": "markdown",
   "metadata": {},
   "source": [
    "#### Prueba de Hipótesis 1: Diferencia en el Ingreso Promedio entre Usuarios de los Planes \"Ultimate\" y \"Surf\"\n",
    "\n",
    "En los resultados de la prueba de hipótesis de la diferencia en el Ingreso Promedio entre Usuarios de los Planes \"Ultimate\" y \"Surf\", aplicando el estadístico T-student, se obtine un p-value de 2.86e-08, un valor menor al de significancia, por tal motivo se rechaza la hipótesis nula, es decir, existen diferencias significativas en el ingreso promedio entre los usuarios de los planes \"Ultimate\" y \"Surf\". \n",
    "\n",
    "#### Prueba de Hipótesis 2: Diferencia en el Ingreso Promedio entre Usuarios en el Área de Nueva York-Nueva Jersey y Otras Regiones\n",
    "\n",
    "En los resultados de la prueba de hipótesis de la diferencia en el Ingreso Promedio entre Usuarios en el Área de Nueva York-Nueva Jersey y Otras Regiones, aplicando el estadístico T-student, se obtine un p-value de 0.04, un valor menor al de significancia, por tal motivo se rechaza la hipótesis nula, es decir, existen diferencias significativas en el ingreso promedio entre los usuarios en el área de Nueva York-Nueva Jersey y los de otras regiones."
   ]
  },
  {
   "cell_type": "markdown",
   "metadata": {},
   "source": [
    "[Volver a Contenidos](#back)"
   ]
  },
  {
   "cell_type": "markdown",
   "metadata": {
    "id": "bbTR8UQO0q1T"
   },
   "source": [
    "## Conclusión <a id='end'></a>"
   ]
  },
  {
   "cell_type": "markdown",
   "metadata": {},
   "source": [
    "#### Conclusión General del Proyecto:\r\n",
    "\r\n",
    "El análisis integral de los datos de clientes de Megaline revela diferencias sustanciales en el comportamiento y rentabilidad de los planes \"Surf\" y \"Ultimate\". A lo largo del año, ambos planes muestran un incremento en el uso de mensajes y tráfico de internet, especialmente hacia finales de año, lo que sugiere que Megaline debería considerar ajustar sus estrategias comerciales y presupuestos publicitarios para capitalizar esta tendencia estacional. Aunque el ingreso promedio por usuario es mayor en el plan \"Ultimate\" (72.31 USD frente a 60.70 USD en el plan \"Surf\"), el plan \"Surf\" genera ingresos totales significativamente más altos debido a su mayor base de usuarios, alcanzando los 95,491.18 USD en comparación con los 52,066.00 USD del plan \"Ultimate\". Las pruebas de hipótesis realizadas confirman diferencias significativas tanto en los ingresos promedio entre los dos planes como entre las regiones de Nueva York-Nueva Jersey y otras áreas, lo que sugiere la necesidad de enfoques diferenciados según la ubicación geográfica. En conjunto, estos hallazgos proporcionan información valiosa para que Megaline ajuste su estrategia de marketing e ingresos, maximizando la rentabilidad de cada plan mediante la adaptación a las características distintivas de sus usuarios."
   ]
  },
  {
   "cell_type": "markdown",
   "metadata": {},
   "source": [
    "[Volver a Contenidos](#back)"
   ]
  }
 ],
 "metadata": {
  "ExecuteTimeLog": [
   {
    "duration": 828,
    "start_time": "2021-11-16T09:21:11.304Z"
   },
   {
    "duration": 893,
    "start_time": "2021-11-16T09:21:17.728Z"
   },
   {
    "duration": 1150,
    "start_time": "2021-11-16T09:21:29.568Z"
   },
   {
    "duration": 3,
    "start_time": "2021-11-16T09:24:14.495Z"
   },
   {
    "duration": 120,
    "start_time": "2021-11-16T09:24:46.630Z"
   },
   {
    "duration": 3,
    "start_time": "2021-11-16T09:28:27.882Z"
   },
   {
    "duration": 4,
    "start_time": "2021-11-16T09:29:54.281Z"
   },
   {
    "duration": 3,
    "start_time": "2021-11-16T09:30:45.936Z"
   },
   {
    "duration": 4,
    "start_time": "2021-11-16T09:31:06.300Z"
   },
   {
    "duration": 113,
    "start_time": "2021-11-16T09:31:37.208Z"
   },
   {
    "duration": 143,
    "start_time": "2021-11-16T09:31:48.656Z"
   },
   {
    "duration": 98,
    "start_time": "2021-11-16T09:31:55.678Z"
   },
   {
    "duration": 3,
    "start_time": "2021-11-16T09:32:08.535Z"
   },
   {
    "duration": 111,
    "start_time": "2021-11-16T09:32:10.120Z"
   },
   {
    "duration": 3,
    "start_time": "2021-11-16T09:32:15.732Z"
   },
   {
    "duration": 4,
    "start_time": "2021-11-16T09:32:29.423Z"
   },
   {
    "duration": 3,
    "start_time": "2021-11-16T10:03:03.074Z"
   },
   {
    "duration": 3,
    "start_time": "2021-11-16T10:10:01.288Z"
   },
   {
    "duration": 3,
    "start_time": "2021-11-16T10:10:46.923Z"
   },
   {
    "duration": 121,
    "start_time": "2021-11-16T10:37:46.494Z"
   },
   {
    "duration": 125,
    "start_time": "2021-11-16T10:38:20.632Z"
   },
   {
    "duration": 112,
    "start_time": "2021-11-16T10:46:53.001Z"
   },
   {
    "duration": 110,
    "start_time": "2021-11-16T10:48:25.775Z"
   },
   {
    "duration": 3,
    "start_time": "2021-11-16T10:50:18.720Z"
   },
   {
    "duration": 4,
    "start_time": "2021-11-16T10:50:37.649Z"
   },
   {
    "duration": 2,
    "start_time": "2021-11-16T10:50:51.884Z"
   },
   {
    "duration": 3,
    "start_time": "2021-11-16T10:51:56.237Z"
   },
   {
    "duration": 101,
    "start_time": "2021-11-16T10:53:13.791Z"
   },
   {
    "duration": 3,
    "start_time": "2021-11-16T10:55:59.186Z"
   },
   {
    "duration": 3,
    "start_time": "2021-11-16T10:56:10.751Z"
   },
   {
    "duration": 3,
    "start_time": "2021-11-16T10:56:49.038Z"
   },
   {
    "duration": 3,
    "start_time": "2021-11-16T10:56:49.174Z"
   },
   {
    "duration": 4,
    "start_time": "2021-11-16T10:56:49.414Z"
   },
   {
    "duration": 3,
    "start_time": "2021-11-16T10:56:49.680Z"
   },
   {
    "duration": 3,
    "start_time": "2021-11-16T10:56:50.370Z"
   },
   {
    "duration": 114,
    "start_time": "2021-11-16T10:59:34.518Z"
   },
   {
    "duration": 3,
    "start_time": "2021-11-16T11:01:41.201Z"
   },
   {
    "duration": 116,
    "start_time": "2021-11-16T11:01:48.754Z"
   },
   {
    "duration": 3,
    "start_time": "2021-11-16T11:02:16.685Z"
   },
   {
    "duration": 3,
    "start_time": "2021-11-16T11:02:19.479Z"
   },
   {
    "duration": 3,
    "start_time": "2021-11-16T11:02:47.067Z"
   },
   {
    "duration": 3,
    "start_time": "2021-11-16T11:02:49.353Z"
   },
   {
    "duration": 3,
    "start_time": "2021-11-16T11:03:07.835Z"
   },
   {
    "duration": 3,
    "start_time": "2021-11-16T11:03:07.953Z"
   },
   {
    "duration": 112,
    "start_time": "2021-11-16T11:07:52.072Z"
   },
   {
    "duration": 187,
    "start_time": "2021-11-16T11:09:23.468Z"
   },
   {
    "duration": 4,
    "start_time": "2021-11-16T11:10:01.455Z"
   },
   {
    "duration": 3,
    "start_time": "2021-11-16T11:10:05.069Z"
   },
   {
    "duration": 4,
    "start_time": "2021-11-16T11:10:13.376Z"
   },
   {
    "duration": 3,
    "start_time": "2021-11-16T11:10:14.434Z"
   },
   {
    "duration": 3,
    "start_time": "2021-11-16T11:10:22.853Z"
   },
   {
    "duration": 4,
    "start_time": "2021-11-16T11:27:29.279Z"
   },
   {
    "duration": 4,
    "start_time": "2021-11-16T11:29:08.919Z"
   },
   {
    "duration": 118,
    "start_time": "2021-11-16T11:29:46.703Z"
   },
   {
    "duration": 437,
    "start_time": "2021-11-16T11:36:02.181Z"
   },
   {
    "duration": 157,
    "start_time": "2021-11-16T11:36:14.388Z"
   },
   {
    "duration": 207,
    "start_time": "2021-11-16T11:47:15.898Z"
   },
   {
    "duration": 3,
    "start_time": "2021-11-16T11:53:52.092Z"
   },
   {
    "duration": 3,
    "start_time": "2021-11-16T11:53:52.236Z"
   },
   {
    "duration": 3,
    "start_time": "2021-11-16T11:59:12.005Z"
   },
   {
    "duration": 112,
    "start_time": "2021-11-16T12:00:33.446Z"
   },
   {
    "duration": 3,
    "start_time": "2021-11-16T12:02:14.453Z"
   },
   {
    "duration": 3,
    "start_time": "2021-11-16T12:02:39.512Z"
   },
   {
    "duration": 106,
    "start_time": "2021-11-16T12:03:03.460Z"
   },
   {
    "duration": 3,
    "start_time": "2021-11-17T20:37:21.139Z"
   },
   {
    "duration": 3,
    "start_time": "2021-11-17T20:37:22.229Z"
   },
   {
    "duration": 3,
    "start_time": "2021-11-17T20:38:38.806Z"
   },
   {
    "duration": 3,
    "start_time": "2021-11-17T20:38:41.958Z"
   },
   {
    "duration": 3,
    "start_time": "2021-11-17T20:43:46.551Z"
   },
   {
    "duration": 4,
    "start_time": "2021-11-17T20:58:21.835Z"
   },
   {
    "duration": 3,
    "start_time": "2021-11-17T20:59:21.872Z"
   },
   {
    "duration": 4,
    "start_time": "2021-11-17T20:59:45.352Z"
   },
   {
    "duration": 4,
    "start_time": "2021-11-17T20:59:49.646Z"
   },
   {
    "duration": 159,
    "start_time": "2021-11-17T21:02:26.949Z"
   },
   {
    "duration": 3,
    "start_time": "2021-11-17T21:03:53.461Z"
   },
   {
    "duration": 3,
    "start_time": "2021-11-17T21:03:53.694Z"
   },
   {
    "duration": 3,
    "start_time": "2021-11-17T21:05:28.145Z"
   },
   {
    "duration": 116,
    "start_time": "2021-11-17T21:05:57.787Z"
   },
   {
    "duration": 3,
    "start_time": "2021-11-17T21:06:37.993Z"
   },
   {
    "duration": 3,
    "start_time": "2021-11-17T21:06:38.261Z"
   },
   {
    "duration": 3,
    "start_time": "2021-11-17T21:11:54.358Z"
   },
   {
    "duration": 3,
    "start_time": "2021-11-17T21:12:43.846Z"
   },
   {
    "duration": 4,
    "start_time": "2021-11-17T21:13:08.773Z"
   },
   {
    "duration": 3,
    "start_time": "2021-11-17T21:14:44.441Z"
   },
   {
    "duration": 3,
    "start_time": "2021-11-17T21:15:42.059Z"
   },
   {
    "duration": 4,
    "start_time": "2021-11-17T21:15:51.995Z"
   },
   {
    "duration": 3,
    "start_time": "2021-11-17T21:15:53.923Z"
   },
   {
    "duration": 3,
    "start_time": "2021-11-17T21:15:55.282Z"
   },
   {
    "duration": 3,
    "start_time": "2021-11-17T21:16:28.492Z"
   },
   {
    "duration": 3,
    "start_time": "2021-11-17T21:16:32.603Z"
   },
   {
    "duration": 3,
    "start_time": "2021-11-17T21:17:06.941Z"
   },
   {
    "duration": 98,
    "start_time": "2021-11-17T21:18:05.733Z"
   },
   {
    "duration": 4,
    "start_time": "2021-11-17T21:21:35.255Z"
   },
   {
    "duration": 3,
    "start_time": "2021-11-17T21:21:37.804Z"
   },
   {
    "duration": 4,
    "start_time": "2021-11-17T21:23:06.071Z"
   },
   {
    "duration": 3,
    "start_time": "2021-11-17T21:23:24.799Z"
   },
   {
    "duration": 3,
    "start_time": "2021-11-17T21:23:32.591Z"
   },
   {
    "duration": 98,
    "start_time": "2021-11-17T21:28:31.559Z"
   },
   {
    "duration": 3,
    "start_time": "2021-11-17T21:28:45.448Z"
   },
   {
    "duration": 3,
    "start_time": "2021-11-17T21:29:17.303Z"
   },
   {
    "duration": 3,
    "start_time": "2021-11-17T21:29:29.617Z"
   },
   {
    "duration": 3,
    "start_time": "2021-11-17T21:29:32.681Z"
   },
   {
    "duration": 3,
    "start_time": "2021-11-17T21:36:11.474Z"
   },
   {
    "duration": 3,
    "start_time": "2021-11-17T21:36:14.791Z"
   },
   {
    "duration": 3,
    "start_time": "2021-11-17T21:36:53.943Z"
   },
   {
    "duration": 3,
    "start_time": "2021-11-17T21:36:56.165Z"
   },
   {
    "duration": 4,
    "start_time": "2021-11-17T21:37:16.590Z"
   },
   {
    "duration": 3,
    "start_time": "2021-11-17T21:37:22.702Z"
   },
   {
    "duration": 4,
    "start_time": "2021-11-17T21:38:03.479Z"
   },
   {
    "duration": 3,
    "start_time": "2021-11-17T21:38:08.601Z"
   },
   {
    "duration": 3,
    "start_time": "2021-11-17T21:38:12.928Z"
   },
   {
    "duration": 3,
    "start_time": "2021-11-17T21:38:48.896Z"
   },
   {
    "duration": 2,
    "start_time": "2021-11-17T21:38:49.171Z"
   },
   {
    "duration": 4,
    "start_time": "2021-11-17T21:39:57.889Z"
   },
   {
    "duration": 3,
    "start_time": "2021-11-17T21:39:58.057Z"
   },
   {
    "duration": 3,
    "start_time": "2021-11-17T21:41:20.108Z"
   },
   {
    "duration": 3,
    "start_time": "2021-11-17T21:41:20.629Z"
   },
   {
    "duration": 3,
    "start_time": "2021-11-17T21:42:49.136Z"
   },
   {
    "duration": 3,
    "start_time": "2021-11-17T21:43:15.137Z"
   },
   {
    "duration": 4,
    "start_time": "2021-11-17T21:43:16.766Z"
   },
   {
    "duration": 4,
    "start_time": "2021-11-17T21:43:31.711Z"
   },
   {
    "duration": 3,
    "start_time": "2021-11-17T21:43:36.312Z"
   },
   {
    "duration": 4,
    "start_time": "2021-11-17T21:45:08.825Z"
   },
   {
    "duration": 4,
    "start_time": "2021-11-17T21:45:10.119Z"
   },
   {
    "duration": 4,
    "start_time": "2021-11-17T21:45:13.748Z"
   },
   {
    "duration": 3,
    "start_time": "2021-11-17T21:45:22.219Z"
   },
   {
    "duration": 3,
    "start_time": "2021-11-17T21:45:33.412Z"
   },
   {
    "duration": 2,
    "start_time": "2021-11-17T21:46:01.885Z"
   },
   {
    "duration": 3,
    "start_time": "2021-11-17T21:46:03.628Z"
   },
   {
    "duration": 107,
    "start_time": "2021-11-17T21:47:32.512Z"
   },
   {
    "duration": 103,
    "start_time": "2021-11-17T21:50:36.243Z"
   },
   {
    "duration": 3,
    "start_time": "2021-11-18T06:28:31.440Z"
   },
   {
    "duration": 3,
    "start_time": "2021-11-18T06:29:00.168Z"
   },
   {
    "duration": 3,
    "start_time": "2021-11-18T06:31:27.008Z"
   },
   {
    "duration": 2,
    "start_time": "2021-11-18T06:35:34.288Z"
   },
   {
    "duration": 2,
    "start_time": "2021-11-18T06:38:04.527Z"
   }
  ],
  "colab": {
   "provenance": []
  },
  "kernelspec": {
   "display_name": "Python 3 (ipykernel)",
   "language": "python",
   "name": "python3"
  },
  "language_info": {
   "codemirror_mode": {
    "name": "ipython",
    "version": 3
   },
   "file_extension": ".py",
   "mimetype": "text/x-python",
   "name": "python",
   "nbconvert_exporter": "python",
   "pygments_lexer": "ipython3",
   "version": "3.12.4"
  },
  "toc": {
   "base_numbering": 1,
   "nav_menu": {},
   "number_sections": true,
   "sideBar": true,
   "skip_h1_title": false,
   "title_cell": "Table of Contents",
   "title_sidebar": "Contents",
   "toc_cell": false,
   "toc_position": {},
   "toc_section_display": true,
   "toc_window_display": false
  }
 },
 "nbformat": 4,
 "nbformat_minor": 4
}
